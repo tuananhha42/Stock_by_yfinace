{
 "cells": [
  {
   "cell_type": "markdown",
   "metadata": {},
   "source": [
    "# <font color=\"red\">B0:Cài đặt thư viện và import </font>\n",
    "- pip install pandas <br>\n",
    "- pip install numpy <br>\n",
    "- pip install matplotlib <br>\n",
    "- pip install scikit-learn (sklearn) <br>\n",
    "- pip install pickle (nếu lỗi version thì pip install pickle5) <br>\n",
    "- pip install yfinance (data về chứng khoán) <br>"
   ]
  },
  {
   "cell_type": "code",
   "execution_count": 1,
   "metadata": {},
   "outputs": [],
   "source": [
    "import yfinance as yf\n",
    "import pandas as pd\n",
    "import numpy as np\n",
    "import matplotlib.pyplot as plt\n",
    "from sklearn.model_selection import train_test_split\n",
    "from sklearn.linear_model import LinearRegression\n",
    "from sklearn.metrics import mean_squared_error\n"
   ]
  },
  {
   "cell_type": "markdown",
   "metadata": {},
   "source": [
    "# <font color=\"red\">B1:Đọc DATA và khám phá dữ liệu ( Công ty Amazon) </font>"
   ]
  },
  {
   "cell_type": "code",
   "execution_count": 2,
   "metadata": {},
   "outputs": [
    {
     "name": "stdout",
     "output_type": "stream",
     "text": [
      "[*********************100%%**********************]  1 of 1 completed\n"
     ]
    }
   ],
   "source": [
    "# Ticker symbol của cổ phiếu bạn muốn dự đoán\n",
    "ticker_symbol = 'AMZN'\n",
    "\n",
    "# Lấy dữ liệu lịch sử giá cổ phiếu\n",
    "stock_data = yf.download(ticker_symbol, start='2003-10-20', end='2023-10-20')\n"
   ]
  },
  {
   "cell_type": "code",
   "execution_count": 3,
   "metadata": {},
   "outputs": [
    {
     "data": {
      "text/html": [
       "<div>\n",
       "<style scoped>\n",
       "    .dataframe tbody tr th:only-of-type {\n",
       "        vertical-align: middle;\n",
       "    }\n",
       "\n",
       "    .dataframe tbody tr th {\n",
       "        vertical-align: top;\n",
       "    }\n",
       "\n",
       "    .dataframe thead th {\n",
       "        text-align: right;\n",
       "    }\n",
       "</style>\n",
       "<table border=\"1\" class=\"dataframe\">\n",
       "  <thead>\n",
       "    <tr style=\"text-align: right;\">\n",
       "      <th></th>\n",
       "      <th>Open</th>\n",
       "      <th>High</th>\n",
       "      <th>Low</th>\n",
       "      <th>Close</th>\n",
       "      <th>Adj Close</th>\n",
       "      <th>Volume</th>\n",
       "    </tr>\n",
       "    <tr>\n",
       "      <th>Date</th>\n",
       "      <th></th>\n",
       "      <th></th>\n",
       "      <th></th>\n",
       "      <th></th>\n",
       "      <th></th>\n",
       "      <th></th>\n",
       "    </tr>\n",
       "  </thead>\n",
       "  <tbody>\n",
       "    <tr>\n",
       "      <th>2003-10-20</th>\n",
       "      <td>2.978000</td>\n",
       "      <td>3.012000</td>\n",
       "      <td>2.946000</td>\n",
       "      <td>2.979500</td>\n",
       "      <td>2.979500</td>\n",
       "      <td>221722000</td>\n",
       "    </tr>\n",
       "    <tr>\n",
       "      <th>2003-10-21</th>\n",
       "      <td>2.986500</td>\n",
       "      <td>3.057500</td>\n",
       "      <td>2.950500</td>\n",
       "      <td>2.967500</td>\n",
       "      <td>2.967500</td>\n",
       "      <td>342298000</td>\n",
       "    </tr>\n",
       "    <tr>\n",
       "      <th>2003-10-22</th>\n",
       "      <td>2.802500</td>\n",
       "      <td>2.807500</td>\n",
       "      <td>2.686500</td>\n",
       "      <td>2.701500</td>\n",
       "      <td>2.701500</td>\n",
       "      <td>654038000</td>\n",
       "    </tr>\n",
       "    <tr>\n",
       "      <th>2003-10-23</th>\n",
       "      <td>2.649000</td>\n",
       "      <td>2.726000</td>\n",
       "      <td>2.645500</td>\n",
       "      <td>2.716000</td>\n",
       "      <td>2.716000</td>\n",
       "      <td>292234000</td>\n",
       "    </tr>\n",
       "    <tr>\n",
       "      <th>2003-10-24</th>\n",
       "      <td>2.727500</td>\n",
       "      <td>2.747000</td>\n",
       "      <td>2.650000</td>\n",
       "      <td>2.725500</td>\n",
       "      <td>2.725500</td>\n",
       "      <td>208764000</td>\n",
       "    </tr>\n",
       "    <tr>\n",
       "      <th>...</th>\n",
       "      <td>...</td>\n",
       "      <td>...</td>\n",
       "      <td>...</td>\n",
       "      <td>...</td>\n",
       "      <td>...</td>\n",
       "      <td>...</td>\n",
       "    </tr>\n",
       "    <tr>\n",
       "      <th>2023-10-13</th>\n",
       "      <td>132.979996</td>\n",
       "      <td>133.309998</td>\n",
       "      <td>128.949997</td>\n",
       "      <td>129.789993</td>\n",
       "      <td>129.789993</td>\n",
       "      <td>45786600</td>\n",
       "    </tr>\n",
       "    <tr>\n",
       "      <th>2023-10-16</th>\n",
       "      <td>130.690002</td>\n",
       "      <td>133.070007</td>\n",
       "      <td>130.429993</td>\n",
       "      <td>132.550003</td>\n",
       "      <td>132.550003</td>\n",
       "      <td>42832900</td>\n",
       "    </tr>\n",
       "    <tr>\n",
       "      <th>2023-10-17</th>\n",
       "      <td>130.389999</td>\n",
       "      <td>132.580002</td>\n",
       "      <td>128.710007</td>\n",
       "      <td>131.470001</td>\n",
       "      <td>131.470001</td>\n",
       "      <td>49344600</td>\n",
       "    </tr>\n",
       "    <tr>\n",
       "      <th>2023-10-18</th>\n",
       "      <td>129.899994</td>\n",
       "      <td>130.669998</td>\n",
       "      <td>127.510002</td>\n",
       "      <td>128.130005</td>\n",
       "      <td>128.130005</td>\n",
       "      <td>42699500</td>\n",
       "    </tr>\n",
       "    <tr>\n",
       "      <th>2023-10-19</th>\n",
       "      <td>130.570007</td>\n",
       "      <td>132.240005</td>\n",
       "      <td>127.470001</td>\n",
       "      <td>128.399994</td>\n",
       "      <td>128.399994</td>\n",
       "      <td>60961400</td>\n",
       "    </tr>\n",
       "  </tbody>\n",
       "</table>\n",
       "<p>5035 rows × 6 columns</p>\n",
       "</div>"
      ],
      "text/plain": [
       "                  Open        High         Low       Close   Adj Close   \n",
       "Date                                                                     \n",
       "2003-10-20    2.978000    3.012000    2.946000    2.979500    2.979500  \\\n",
       "2003-10-21    2.986500    3.057500    2.950500    2.967500    2.967500   \n",
       "2003-10-22    2.802500    2.807500    2.686500    2.701500    2.701500   \n",
       "2003-10-23    2.649000    2.726000    2.645500    2.716000    2.716000   \n",
       "2003-10-24    2.727500    2.747000    2.650000    2.725500    2.725500   \n",
       "...                ...         ...         ...         ...         ...   \n",
       "2023-10-13  132.979996  133.309998  128.949997  129.789993  129.789993   \n",
       "2023-10-16  130.690002  133.070007  130.429993  132.550003  132.550003   \n",
       "2023-10-17  130.389999  132.580002  128.710007  131.470001  131.470001   \n",
       "2023-10-18  129.899994  130.669998  127.510002  128.130005  128.130005   \n",
       "2023-10-19  130.570007  132.240005  127.470001  128.399994  128.399994   \n",
       "\n",
       "               Volume  \n",
       "Date                   \n",
       "2003-10-20  221722000  \n",
       "2003-10-21  342298000  \n",
       "2003-10-22  654038000  \n",
       "2003-10-23  292234000  \n",
       "2003-10-24  208764000  \n",
       "...               ...  \n",
       "2023-10-13   45786600  \n",
       "2023-10-16   42832900  \n",
       "2023-10-17   49344600  \n",
       "2023-10-18   42699500  \n",
       "2023-10-19   60961400  \n",
       "\n",
       "[5035 rows x 6 columns]"
      ]
     },
     "execution_count": 3,
     "metadata": {},
     "output_type": "execute_result"
    }
   ],
   "source": [
    "stock_data"
   ]
  },
  {
   "cell_type": "code",
   "execution_count": 4,
   "metadata": {},
   "outputs": [
    {
     "name": "stdout",
     "output_type": "stream",
     "text": [
      "<class 'pandas.core.frame.DataFrame'>\n",
      "DatetimeIndex: 5035 entries, 2003-10-20 to 2023-10-19\n",
      "Data columns (total 6 columns):\n",
      " #   Column     Non-Null Count  Dtype  \n",
      "---  ------     --------------  -----  \n",
      " 0   Open       5035 non-null   float64\n",
      " 1   High       5035 non-null   float64\n",
      " 2   Low        5035 non-null   float64\n",
      " 3   Close      5035 non-null   float64\n",
      " 4   Adj Close  5035 non-null   float64\n",
      " 5   Volume     5035 non-null   int64  \n",
      "dtypes: float64(5), int64(1)\n",
      "memory usage: 275.4 KB\n"
     ]
    }
   ],
   "source": [
    "stock_data.info()"
   ]
  },
  {
   "cell_type": "code",
   "execution_count": 5,
   "metadata": {},
   "outputs": [
    {
     "data": {
      "text/plain": [
       "Index(['Open', 'High', 'Low', 'Close', 'Adj Close', 'Volume'], dtype='object')"
      ]
     },
     "execution_count": 5,
     "metadata": {},
     "output_type": "execute_result"
    }
   ],
   "source": [
    "stock_data.keys()\n",
    "# Những feature của tập dữ liệu"
   ]
  },
  {
   "cell_type": "code",
   "execution_count": 6,
   "metadata": {},
   "outputs": [
    {
     "data": {
      "text/html": [
       "<div>\n",
       "<style scoped>\n",
       "    .dataframe tbody tr th:only-of-type {\n",
       "        vertical-align: middle;\n",
       "    }\n",
       "\n",
       "    .dataframe tbody tr th {\n",
       "        vertical-align: top;\n",
       "    }\n",
       "\n",
       "    .dataframe thead th {\n",
       "        text-align: right;\n",
       "    }\n",
       "</style>\n",
       "<table border=\"1\" class=\"dataframe\">\n",
       "  <thead>\n",
       "    <tr style=\"text-align: right;\">\n",
       "      <th></th>\n",
       "      <th>Open</th>\n",
       "      <th>High</th>\n",
       "      <th>Low</th>\n",
       "      <th>Close</th>\n",
       "      <th>Adj Close</th>\n",
       "      <th>Volume</th>\n",
       "    </tr>\n",
       "  </thead>\n",
       "  <tbody>\n",
       "    <tr>\n",
       "      <th>count</th>\n",
       "      <td>5035.000000</td>\n",
       "      <td>5035.000000</td>\n",
       "      <td>5035.000000</td>\n",
       "      <td>5035.000000</td>\n",
       "      <td>5035.000000</td>\n",
       "      <td>5.035000e+03</td>\n",
       "    </tr>\n",
       "    <tr>\n",
       "      <th>mean</th>\n",
       "      <td>43.817159</td>\n",
       "      <td>44.333904</td>\n",
       "      <td>43.253151</td>\n",
       "      <td>43.802739</td>\n",
       "      <td>43.802739</td>\n",
       "      <td>1.128781e+08</td>\n",
       "    </tr>\n",
       "    <tr>\n",
       "      <th>std</th>\n",
       "      <td>52.845010</td>\n",
       "      <td>53.473046</td>\n",
       "      <td>52.150349</td>\n",
       "      <td>52.807387</td>\n",
       "      <td>52.807387</td>\n",
       "      <td>9.269353e+07</td>\n",
       "    </tr>\n",
       "    <tr>\n",
       "      <th>min</th>\n",
       "      <td>1.304500</td>\n",
       "      <td>1.315000</td>\n",
       "      <td>1.288000</td>\n",
       "      <td>1.303500</td>\n",
       "      <td>1.303500</td>\n",
       "      <td>1.762600e+07</td>\n",
       "    </tr>\n",
       "    <tr>\n",
       "      <th>25%</th>\n",
       "      <td>3.953500</td>\n",
       "      <td>4.039750</td>\n",
       "      <td>3.890000</td>\n",
       "      <td>3.957750</td>\n",
       "      <td>3.957750</td>\n",
       "      <td>6.215665e+07</td>\n",
       "    </tr>\n",
       "    <tr>\n",
       "      <th>50%</th>\n",
       "      <td>15.130000</td>\n",
       "      <td>15.253000</td>\n",
       "      <td>14.902000</td>\n",
       "      <td>15.120500</td>\n",
       "      <td>15.120500</td>\n",
       "      <td>9.065400e+07</td>\n",
       "    </tr>\n",
       "    <tr>\n",
       "      <th>75%</th>\n",
       "      <td>84.404999</td>\n",
       "      <td>85.369999</td>\n",
       "      <td>83.287498</td>\n",
       "      <td>84.461246</td>\n",
       "      <td>84.461246</td>\n",
       "      <td>1.356360e+08</td>\n",
       "    </tr>\n",
       "    <tr>\n",
       "      <th>max</th>\n",
       "      <td>187.199997</td>\n",
       "      <td>188.654007</td>\n",
       "      <td>184.839493</td>\n",
       "      <td>186.570496</td>\n",
       "      <td>186.570496</td>\n",
       "      <td>2.086584e+09</td>\n",
       "    </tr>\n",
       "  </tbody>\n",
       "</table>\n",
       "</div>"
      ],
      "text/plain": [
       "              Open         High          Low        Close    Adj Close   \n",
       "count  5035.000000  5035.000000  5035.000000  5035.000000  5035.000000  \\\n",
       "mean     43.817159    44.333904    43.253151    43.802739    43.802739   \n",
       "std      52.845010    53.473046    52.150349    52.807387    52.807387   \n",
       "min       1.304500     1.315000     1.288000     1.303500     1.303500   \n",
       "25%       3.953500     4.039750     3.890000     3.957750     3.957750   \n",
       "50%      15.130000    15.253000    14.902000    15.120500    15.120500   \n",
       "75%      84.404999    85.369999    83.287498    84.461246    84.461246   \n",
       "max     187.199997   188.654007   184.839493   186.570496   186.570496   \n",
       "\n",
       "             Volume  \n",
       "count  5.035000e+03  \n",
       "mean   1.128781e+08  \n",
       "std    9.269353e+07  \n",
       "min    1.762600e+07  \n",
       "25%    6.215665e+07  \n",
       "50%    9.065400e+07  \n",
       "75%    1.356360e+08  \n",
       "max    2.086584e+09  "
      ]
     },
     "execution_count": 6,
     "metadata": {},
     "output_type": "execute_result"
    }
   ],
   "source": [
    "stock_data.describe()\n",
    "# Thống kê mô tả về tập dữ liệu"
   ]
  },
  {
   "cell_type": "markdown",
   "metadata": {},
   "source": [
    "# <font color=\"red\">B2:Kiểm tra và tiền xử lý dữ liệu(nếu có) </font>"
   ]
  },
  {
   "cell_type": "code",
   "execution_count": 7,
   "metadata": {},
   "outputs": [
    {
     "data": {
      "text/plain": [
       "(5035, 6)"
      ]
     },
     "execution_count": 7,
     "metadata": {},
     "output_type": "execute_result"
    }
   ],
   "source": [
    "stock_data.shape\n",
    "# kích thước dữ liệu"
   ]
  },
  {
   "cell_type": "code",
   "execution_count": 8,
   "metadata": {},
   "outputs": [
    {
     "data": {
      "text/plain": [
       "Open         float64\n",
       "High         float64\n",
       "Low          float64\n",
       "Close        float64\n",
       "Adj Close    float64\n",
       "Volume         int64\n",
       "dtype: object"
      ]
     },
     "execution_count": 8,
     "metadata": {},
     "output_type": "execute_result"
    }
   ],
   "source": [
    "stock_data.dtypes\n",
    "#Kiểu dữ liệu của từng feature"
   ]
  },
  {
   "cell_type": "code",
   "execution_count": 9,
   "metadata": {},
   "outputs": [
    {
     "data": {
      "text/plain": [
       "Open         0\n",
       "High         0\n",
       "Low          0\n",
       "Close        0\n",
       "Adj Close    0\n",
       "Volume       0\n",
       "dtype: int64"
      ]
     },
     "execution_count": 9,
     "metadata": {},
     "output_type": "execute_result"
    }
   ],
   "source": [
    "stock_data.isnull().sum()\n",
    "#check missing value"
   ]
  },
  {
   "cell_type": "markdown",
   "metadata": {},
   "source": [
    "### <font color = 'yellow' >Ta thấy tập dữ liệu này khá là sạch<font>"
   ]
  },
  {
   "cell_type": "code",
   "execution_count": 10,
   "metadata": {},
   "outputs": [
    {
     "data": {
      "text/plain": [
       "Date\n",
       "2003-10-20      2.979500\n",
       "2003-10-21      2.967500\n",
       "2003-10-22      2.701500\n",
       "2003-10-23      2.716000\n",
       "2003-10-24      2.725500\n",
       "                 ...    \n",
       "2023-10-13    129.789993\n",
       "2023-10-16    132.550003\n",
       "2023-10-17    131.470001\n",
       "2023-10-18    128.130005\n",
       "2023-10-19    128.399994\n",
       "Name: Adj Close, Length: 5035, dtype: float64"
      ]
     },
     "execution_count": 10,
     "metadata": {},
     "output_type": "execute_result"
    }
   ],
   "source": [
    "# Chọn cột 'Adj Close' (giá đóng cửa đã điều chỉnh) làm biến phụ thuộc (y)\n",
    "y = stock_data['Adj Close']\n",
    "y"
   ]
  },
  {
   "cell_type": "code",
   "execution_count": 11,
   "metadata": {},
   "outputs": [
    {
     "data": {
      "image/png": "[encoded data removed]",
      "text/plain": [
       "<Figure size 1200x600 with 1 Axes>"
      ]
     },
     "metadata": {},
     "output_type": "display_data"
    }
   ],
   "source": [
    "# Vẽ biểu đồ đường cho cột 'Adj Close'\n",
    "plt.figure(figsize=(12, 6))\n",
    "plt.plot(stock_data.index, y, label='Adj Close', color='blue')\n",
    "plt.title('Biểu đồ Adj Close')\n",
    "plt.xlabel('Ngày')\n",
    "plt.ylabel('Giá đóng cửa đã điều chỉnh')\n",
    "plt.legend()\n",
    "plt.grid(True)\n",
    "plt.show()"
   ]
  },
  {
   "cell_type": "code",
   "execution_count": 12,
   "metadata": {},
   "outputs": [
    {
     "data": {
      "text/html": [
       "<div>\n",
       "<style scoped>\n",
       "    .dataframe tbody tr th:only-of-type {\n",
       "        vertical-align: middle;\n",
       "    }\n",
       "\n",
       "    .dataframe tbody tr th {\n",
       "        vertical-align: top;\n",
       "    }\n",
       "\n",
       "    .dataframe thead th {\n",
       "        text-align: right;\n",
       "    }\n",
       "</style>\n",
       "<table border=\"1\" class=\"dataframe\">\n",
       "  <thead>\n",
       "    <tr style=\"text-align: right;\">\n",
       "      <th></th>\n",
       "      <th>Open</th>\n",
       "      <th>High</th>\n",
       "      <th>Low</th>\n",
       "      <th>Close</th>\n",
       "      <th>Volume</th>\n",
       "    </tr>\n",
       "    <tr>\n",
       "      <th>Date</th>\n",
       "      <th></th>\n",
       "      <th></th>\n",
       "      <th></th>\n",
       "      <th></th>\n",
       "      <th></th>\n",
       "    </tr>\n",
       "  </thead>\n",
       "  <tbody>\n",
       "    <tr>\n",
       "      <th>2003-10-20</th>\n",
       "      <td>2.978000</td>\n",
       "      <td>3.012000</td>\n",
       "      <td>2.946000</td>\n",
       "      <td>2.979500</td>\n",
       "      <td>221722000</td>\n",
       "    </tr>\n",
       "    <tr>\n",
       "      <th>2003-10-21</th>\n",
       "      <td>2.986500</td>\n",
       "      <td>3.057500</td>\n",
       "      <td>2.950500</td>\n",
       "      <td>2.967500</td>\n",
       "      <td>342298000</td>\n",
       "    </tr>\n",
       "    <tr>\n",
       "      <th>2003-10-22</th>\n",
       "      <td>2.802500</td>\n",
       "      <td>2.807500</td>\n",
       "      <td>2.686500</td>\n",
       "      <td>2.701500</td>\n",
       "      <td>654038000</td>\n",
       "    </tr>\n",
       "    <tr>\n",
       "      <th>2003-10-23</th>\n",
       "      <td>2.649000</td>\n",
       "      <td>2.726000</td>\n",
       "      <td>2.645500</td>\n",
       "      <td>2.716000</td>\n",
       "      <td>292234000</td>\n",
       "    </tr>\n",
       "    <tr>\n",
       "      <th>2003-10-24</th>\n",
       "      <td>2.727500</td>\n",
       "      <td>2.747000</td>\n",
       "      <td>2.650000</td>\n",
       "      <td>2.725500</td>\n",
       "      <td>208764000</td>\n",
       "    </tr>\n",
       "    <tr>\n",
       "      <th>...</th>\n",
       "      <td>...</td>\n",
       "      <td>...</td>\n",
       "      <td>...</td>\n",
       "      <td>...</td>\n",
       "      <td>...</td>\n",
       "    </tr>\n",
       "    <tr>\n",
       "      <th>2023-10-13</th>\n",
       "      <td>132.979996</td>\n",
       "      <td>133.309998</td>\n",
       "      <td>128.949997</td>\n",
       "      <td>129.789993</td>\n",
       "      <td>45786600</td>\n",
       "    </tr>\n",
       "    <tr>\n",
       "      <th>2023-10-16</th>\n",
       "      <td>130.690002</td>\n",
       "      <td>133.070007</td>\n",
       "      <td>130.429993</td>\n",
       "      <td>132.550003</td>\n",
       "      <td>42832900</td>\n",
       "    </tr>\n",
       "    <tr>\n",
       "      <th>2023-10-17</th>\n",
       "      <td>130.389999</td>\n",
       "      <td>132.580002</td>\n",
       "      <td>128.710007</td>\n",
       "      <td>131.470001</td>\n",
       "      <td>49344600</td>\n",
       "    </tr>\n",
       "    <tr>\n",
       "      <th>2023-10-18</th>\n",
       "      <td>129.899994</td>\n",
       "      <td>130.669998</td>\n",
       "      <td>127.510002</td>\n",
       "      <td>128.130005</td>\n",
       "      <td>42699500</td>\n",
       "    </tr>\n",
       "    <tr>\n",
       "      <th>2023-10-19</th>\n",
       "      <td>130.570007</td>\n",
       "      <td>132.240005</td>\n",
       "      <td>127.470001</td>\n",
       "      <td>128.399994</td>\n",
       "      <td>60961400</td>\n",
       "    </tr>\n",
       "  </tbody>\n",
       "</table>\n",
       "<p>5035 rows × 5 columns</p>\n",
       "</div>"
      ],
      "text/plain": [
       "                  Open        High         Low       Close     Volume\n",
       "Date                                                                 \n",
       "2003-10-20    2.978000    3.012000    2.946000    2.979500  221722000\n",
       "2003-10-21    2.986500    3.057500    2.950500    2.967500  342298000\n",
       "2003-10-22    2.802500    2.807500    2.686500    2.701500  654038000\n",
       "2003-10-23    2.649000    2.726000    2.645500    2.716000  292234000\n",
       "2003-10-24    2.727500    2.747000    2.650000    2.725500  208764000\n",
       "...                ...         ...         ...         ...        ...\n",
       "2023-10-13  132.979996  133.309998  128.949997  129.789993   45786600\n",
       "2023-10-16  130.690002  133.070007  130.429993  132.550003   42832900\n",
       "2023-10-17  130.389999  132.580002  128.710007  131.470001   49344600\n",
       "2023-10-18  129.899994  130.669998  127.510002  128.130005   42699500\n",
       "2023-10-19  130.570007  132.240005  127.470001  128.399994   60961400\n",
       "\n",
       "[5035 rows x 5 columns]"
      ]
     },
     "execution_count": 12,
     "metadata": {},
     "output_type": "execute_result"
    }
   ],
   "source": [
    "# Chọn các cột trừ cột 'Adj Close' làm biến độc lập (x)\n",
    "X = stock_data.drop(columns=['Adj Close'])\n",
    "X"
   ]
  },
  {
   "cell_type": "markdown",
   "metadata": {},
   "source": [
    "### <font color = 'yellow' >Thay vì sử dụng chỉ số( index) là số thứ tự thì ta sẽ dùng ngày tháng. Do ko ảnh hưởng đến việc huấn luyện nên ta không cần chuyển về dạng số thứ tự<font>"
   ]
  },
  {
   "cell_type": "code",
   "execution_count": 13,
   "metadata": {},
   "outputs": [],
   "source": [
    "# Chia dữ liệu thành tập huấn luyện và tập kiểm tra\n",
    "X_train, X_test, y_train, y_test = train_test_split(X, y, test_size=0.2, random_state=42)"
   ]
  },
  {
   "cell_type": "code",
   "execution_count": 14,
   "metadata": {},
   "outputs": [
    {
     "name": "stdout",
     "output_type": "stream",
     "text": [
      "(4028, 5)\n",
      "(1007, 5)\n",
      "(4028,)\n",
      "(1007,)\n"
     ]
    }
   ],
   "source": [
    "print(X_train.shape)\n",
    "print(X_test.shape)\n",
    "print(y_train.shape)\n",
    "print(y_test.shape)\n",
    "#kiểm tra độ lớn của dữ liệu sau khi chia"
   ]
  },
  {
   "cell_type": "code",
   "execution_count": 15,
   "metadata": {},
   "outputs": [
    {
     "data": {
      "text/html": [
       "<div>\n",
       "<style scoped>\n",
       "    .dataframe tbody tr th:only-of-type {\n",
       "        vertical-align: middle;\n",
       "    }\n",
       "\n",
       "    .dataframe tbody tr th {\n",
       "        vertical-align: top;\n",
       "    }\n",
       "\n",
       "    .dataframe thead th {\n",
       "        text-align: right;\n",
       "    }\n",
       "</style>\n",
       "<table border=\"1\" class=\"dataframe\">\n",
       "  <thead>\n",
       "    <tr style=\"text-align: right;\">\n",
       "      <th></th>\n",
       "      <th>Open</th>\n",
       "      <th>High</th>\n",
       "      <th>Low</th>\n",
       "      <th>Close</th>\n",
       "      <th>Volume</th>\n",
       "    </tr>\n",
       "    <tr>\n",
       "      <th>Date</th>\n",
       "      <th></th>\n",
       "      <th></th>\n",
       "      <th></th>\n",
       "      <th></th>\n",
       "      <th></th>\n",
       "    </tr>\n",
       "  </thead>\n",
       "  <tbody>\n",
       "    <tr>\n",
       "      <th>2016-05-09</th>\n",
       "      <td>33.697498</td>\n",
       "      <td>34.348999</td>\n",
       "      <td>33.570499</td>\n",
       "      <td>33.987499</td>\n",
       "      <td>79644000</td>\n",
       "    </tr>\n",
       "    <tr>\n",
       "      <th>2006-03-01</th>\n",
       "      <td>1.872500</td>\n",
       "      <td>1.884500</td>\n",
       "      <td>1.842500</td>\n",
       "      <td>1.856000</td>\n",
       "      <td>139630000</td>\n",
       "    </tr>\n",
       "    <tr>\n",
       "      <th>2016-01-06</th>\n",
       "      <td>31.100000</td>\n",
       "      <td>31.989500</td>\n",
       "      <td>31.015499</td>\n",
       "      <td>31.632500</td>\n",
       "      <td>106584000</td>\n",
       "    </tr>\n",
       "    <tr>\n",
       "      <th>2006-04-13</th>\n",
       "      <td>1.797500</td>\n",
       "      <td>1.836000</td>\n",
       "      <td>1.774500</td>\n",
       "      <td>1.831000</td>\n",
       "      <td>74304000</td>\n",
       "    </tr>\n",
       "    <tr>\n",
       "      <th>2005-08-03</th>\n",
       "      <td>2.300500</td>\n",
       "      <td>2.309000</td>\n",
       "      <td>2.292000</td>\n",
       "      <td>2.305500</td>\n",
       "      <td>96650000</td>\n",
       "    </tr>\n",
       "    <tr>\n",
       "      <th>...</th>\n",
       "      <td>...</td>\n",
       "      <td>...</td>\n",
       "      <td>...</td>\n",
       "      <td>...</td>\n",
       "      <td>...</td>\n",
       "    </tr>\n",
       "    <tr>\n",
       "      <th>2021-05-20</th>\n",
       "      <td>162.220001</td>\n",
       "      <td>162.983994</td>\n",
       "      <td>161.809006</td>\n",
       "      <td>162.384003</td>\n",
       "      <td>52664000</td>\n",
       "    </tr>\n",
       "    <tr>\n",
       "      <th>2005-08-25</th>\n",
       "      <td>2.127000</td>\n",
       "      <td>2.140000</td>\n",
       "      <td>2.104000</td>\n",
       "      <td>2.115500</td>\n",
       "      <td>61844000</td>\n",
       "    </tr>\n",
       "    <tr>\n",
       "      <th>2016-02-02</th>\n",
       "      <td>28.500000</td>\n",
       "      <td>28.577999</td>\n",
       "      <td>27.504499</td>\n",
       "      <td>27.605000</td>\n",
       "      <td>126240000</td>\n",
       "    </tr>\n",
       "    <tr>\n",
       "      <th>2018-10-12</th>\n",
       "      <td>90.400002</td>\n",
       "      <td>90.447502</td>\n",
       "      <td>87.126503</td>\n",
       "      <td>89.430496</td>\n",
       "      <td>188892000</td>\n",
       "    </tr>\n",
       "    <tr>\n",
       "      <th>2007-03-22</th>\n",
       "      <td>1.974000</td>\n",
       "      <td>1.986000</td>\n",
       "      <td>1.945500</td>\n",
       "      <td>1.974500</td>\n",
       "      <td>106630000</td>\n",
       "    </tr>\n",
       "  </tbody>\n",
       "</table>\n",
       "<p>4028 rows × 5 columns</p>\n",
       "</div>"
      ],
      "text/plain": [
       "                  Open        High         Low       Close     Volume\n",
       "Date                                                                 \n",
       "2016-05-09   33.697498   34.348999   33.570499   33.987499   79644000\n",
       "2006-03-01    1.872500    1.884500    1.842500    1.856000  139630000\n",
       "2016-01-06   31.100000   31.989500   31.015499   31.632500  106584000\n",
       "2006-04-13    1.797500    1.836000    1.774500    1.831000   74304000\n",
       "2005-08-03    2.300500    2.309000    2.292000    2.305500   96650000\n",
       "...                ...         ...         ...         ...        ...\n",
       "2021-05-20  162.220001  162.983994  161.809006  162.384003   52664000\n",
       "2005-08-25    2.127000    2.140000    2.104000    2.115500   61844000\n",
       "2016-02-02   28.500000   28.577999   27.504499   27.605000  126240000\n",
       "2018-10-12   90.400002   90.447502   87.126503   89.430496  188892000\n",
       "2007-03-22    1.974000    1.986000    1.945500    1.974500  106630000\n",
       "\n",
       "[4028 rows x 5 columns]"
      ]
     },
     "execution_count": 15,
     "metadata": {},
     "output_type": "execute_result"
    }
   ],
   "source": [
    "X_train"
   ]
  },
  {
   "cell_type": "code",
   "execution_count": 16,
   "metadata": {},
   "outputs": [
    {
     "data": {
      "text/html": [
       "<div>\n",
       "<style scoped>\n",
       "    .dataframe tbody tr th:only-of-type {\n",
       "        vertical-align: middle;\n",
       "    }\n",
       "\n",
       "    .dataframe tbody tr th {\n",
       "        vertical-align: top;\n",
       "    }\n",
       "\n",
       "    .dataframe thead th {\n",
       "        text-align: right;\n",
       "    }\n",
       "</style>\n",
       "<table border=\"1\" class=\"dataframe\">\n",
       "  <thead>\n",
       "    <tr style=\"text-align: right;\">\n",
       "      <th></th>\n",
       "      <th>Open</th>\n",
       "      <th>High</th>\n",
       "      <th>Low</th>\n",
       "      <th>Close</th>\n",
       "      <th>Volume</th>\n",
       "    </tr>\n",
       "    <tr>\n",
       "      <th>Date</th>\n",
       "      <th></th>\n",
       "      <th></th>\n",
       "      <th></th>\n",
       "      <th></th>\n",
       "      <th></th>\n",
       "    </tr>\n",
       "  </thead>\n",
       "  <tbody>\n",
       "    <tr>\n",
       "      <th>2018-04-09</th>\n",
       "      <td>71.251503</td>\n",
       "      <td>71.924004</td>\n",
       "      <td>70.128502</td>\n",
       "      <td>70.304001</td>\n",
       "      <td>84164000</td>\n",
       "    </tr>\n",
       "    <tr>\n",
       "      <th>2022-06-09</th>\n",
       "      <td>119.989998</td>\n",
       "      <td>121.300003</td>\n",
       "      <td>116.099998</td>\n",
       "      <td>116.150002</td>\n",
       "      <td>67029800</td>\n",
       "    </tr>\n",
       "    <tr>\n",
       "      <th>2012-12-12</th>\n",
       "      <td>12.553500</td>\n",
       "      <td>12.718000</td>\n",
       "      <td>12.503000</td>\n",
       "      <td>12.588000</td>\n",
       "      <td>52562000</td>\n",
       "    </tr>\n",
       "    <tr>\n",
       "      <th>2020-08-31</th>\n",
       "      <td>170.449493</td>\n",
       "      <td>174.750000</td>\n",
       "      <td>170.250000</td>\n",
       "      <td>172.548004</td>\n",
       "      <td>83718000</td>\n",
       "    </tr>\n",
       "    <tr>\n",
       "      <th>2008-11-04</th>\n",
       "      <td>2.858000</td>\n",
       "      <td>2.936500</td>\n",
       "      <td>2.761000</td>\n",
       "      <td>2.922500</td>\n",
       "      <td>153276000</td>\n",
       "    </tr>\n",
       "    <tr>\n",
       "      <th>...</th>\n",
       "      <td>...</td>\n",
       "      <td>...</td>\n",
       "      <td>...</td>\n",
       "      <td>...</td>\n",
       "      <td>...</td>\n",
       "    </tr>\n",
       "    <tr>\n",
       "      <th>2013-10-22</th>\n",
       "      <td>16.386000</td>\n",
       "      <td>16.855499</td>\n",
       "      <td>16.284000</td>\n",
       "      <td>16.627001</td>\n",
       "      <td>78710000</td>\n",
       "    </tr>\n",
       "    <tr>\n",
       "      <th>2018-03-14</th>\n",
       "      <td>79.849998</td>\n",
       "      <td>80.321999</td>\n",
       "      <td>79.544502</td>\n",
       "      <td>79.550003</td>\n",
       "      <td>85188000</td>\n",
       "    </tr>\n",
       "    <tr>\n",
       "      <th>2005-08-22</th>\n",
       "      <td>2.180500</td>\n",
       "      <td>2.213500</td>\n",
       "      <td>2.147000</td>\n",
       "      <td>2.188500</td>\n",
       "      <td>107482000</td>\n",
       "    </tr>\n",
       "    <tr>\n",
       "      <th>2023-05-08</th>\n",
       "      <td>105.040001</td>\n",
       "      <td>106.099998</td>\n",
       "      <td>104.699997</td>\n",
       "      <td>105.830002</td>\n",
       "      <td>49430900</td>\n",
       "    </tr>\n",
       "    <tr>\n",
       "      <th>2008-10-31</th>\n",
       "      <td>2.800500</td>\n",
       "      <td>2.862500</td>\n",
       "      <td>2.750500</td>\n",
       "      <td>2.862000</td>\n",
       "      <td>170692000</td>\n",
       "    </tr>\n",
       "  </tbody>\n",
       "</table>\n",
       "<p>1007 rows × 5 columns</p>\n",
       "</div>"
      ],
      "text/plain": [
       "                  Open        High         Low       Close     Volume\n",
       "Date                                                                 \n",
       "2018-04-09   71.251503   71.924004   70.128502   70.304001   84164000\n",
       "2022-06-09  119.989998  121.300003  116.099998  116.150002   67029800\n",
       "2012-12-12   12.553500   12.718000   12.503000   12.588000   52562000\n",
       "2020-08-31  170.449493  174.750000  170.250000  172.548004   83718000\n",
       "2008-11-04    2.858000    2.936500    2.761000    2.922500  153276000\n",
       "...                ...         ...         ...         ...        ...\n",
       "2013-10-22   16.386000   16.855499   16.284000   16.627001   78710000\n",
       "2018-03-14   79.849998   80.321999   79.544502   79.550003   85188000\n",
       "2005-08-22    2.180500    2.213500    2.147000    2.188500  107482000\n",
       "2023-05-08  105.040001  106.099998  104.699997  105.830002   49430900\n",
       "2008-10-31    2.800500    2.862500    2.750500    2.862000  170692000\n",
       "\n",
       "[1007 rows x 5 columns]"
      ]
     },
     "execution_count": 16,
     "metadata": {},
     "output_type": "execute_result"
    }
   ],
   "source": [
    "X_test"
   ]
  },
  {
   "cell_type": "code",
   "execution_count": 17,
   "metadata": {},
   "outputs": [
    {
     "data": {
      "text/plain": [
       "Date\n",
       "2016-05-09     33.987499\n",
       "2006-03-01      1.856000\n",
       "2016-01-06     31.632500\n",
       "2006-04-13      1.831000\n",
       "2005-08-03      2.305500\n",
       "                 ...    \n",
       "2021-05-20    162.384003\n",
       "2005-08-25      2.115500\n",
       "2016-02-02     27.605000\n",
       "2018-10-12     89.430496\n",
       "2007-03-22      1.974500\n",
       "Name: Adj Close, Length: 4028, dtype: float64"
      ]
     },
     "execution_count": 17,
     "metadata": {},
     "output_type": "execute_result"
    }
   ],
   "source": [
    "y_train"
   ]
  },
  {
   "cell_type": "code",
   "execution_count": 18,
   "metadata": {},
   "outputs": [
    {
     "data": {
      "text/plain": [
       "Date\n",
       "2018-04-09     70.304001\n",
       "2022-06-09    116.150002\n",
       "2012-12-12     12.588000\n",
       "2020-08-31    172.548004\n",
       "2008-11-04      2.922500\n",
       "                 ...    \n",
       "2013-10-22     16.627001\n",
       "2018-03-14     79.550003\n",
       "2005-08-22      2.188500\n",
       "2023-05-08    105.830002\n",
       "2008-10-31      2.862000\n",
       "Name: Adj Close, Length: 1007, dtype: float64"
      ]
     },
     "execution_count": 18,
     "metadata": {},
     "output_type": "execute_result"
    }
   ],
   "source": [
    "y_test"
   ]
  },
  {
   "cell_type": "markdown",
   "metadata": {},
   "source": [
    "### <font color = 'yellow' >Ta hãy lưu mô hình chuẩn hóa sau vào 1 file, để sau này chúng ta sẽ chuẩn hóa dữ liệu nhập vào theo file này( lưu chuẩn hóa của X vì dữ liệu chúng ta nhập vào là tập dữ liệu X, tức đầu vào)<font>"
   ]
  },
  {
   "cell_type": "code",
   "execution_count": 19,
   "metadata": {},
   "outputs": [],
   "source": [
    "from sklearn.preprocessing import MinMaxScaler\n",
    "minmax_scale = MinMaxScaler()\n",
    "X_train = minmax_scale.fit_transform(X_train)\n",
    "import pickle\n",
    "with open(\"../Scaler_data/Scaler_Amazon.pkl\", \"wb\") as file:\n",
    "    pickle.dump(minmax_scale, file)\n",
    "X_test = minmax_scale.transform(X_test)"
   ]
  },
  {
   "cell_type": "code",
   "execution_count": 20,
   "metadata": {},
   "outputs": [
    {
     "data": {
      "text/plain": [
       "(array([[0.17425381, 0.17633273, 0.17587707, 0.17641566, 0.02997548],\n",
       "        [0.00305548, 0.00303994, 0.00302095, 0.00298218, 0.05896881],\n",
       "        [0.16028092, 0.16373792, 0.16195727, 0.16370428, 0.04299652],\n",
       "        ...,\n",
       "        [0.14629456, 0.14552762, 0.14282913, 0.14196538, 0.05249696],\n",
       "        [0.47927735, 0.47578186, 0.46765353, 0.47567564, 0.08277887],\n",
       "        [0.00360149, 0.00358174, 0.0035821 , 0.0036218 , 0.04301876]]),\n",
       " (4028, 5))"
      ]
     },
     "execution_count": 20,
     "metadata": {},
     "output_type": "execute_result"
    }
   ],
   "source": [
    "X_train, X_train.shape"
   ]
  },
  {
   "cell_type": "code",
   "execution_count": 21,
   "metadata": {},
   "outputs": [
    {
     "data": {
      "text/plain": [
       "(array([[0.37627056, 0.37690497, 0.37504736, 0.37243817, 0.03216015],\n",
       "        [0.63845279, 0.64046994, 0.62550294, 0.61989725, 0.02387859],\n",
       "        [0.06051249, 0.06086827, 0.06110002, 0.06090939, 0.01688579],\n",
       "        ...,\n",
       "        [0.00471233, 0.00479612, 0.00467989, 0.00477689, 0.04343056],\n",
       "        [0.55803127, 0.55933359, 0.56339502, 0.56419386, 0.01537242],\n",
       "        [0.00804753, 0.00826043, 0.00796779, 0.00841218, 0.07398217]]),\n",
       " (1007, 5))"
      ]
     },
     "execution_count": 21,
     "metadata": {},
     "output_type": "execute_result"
    }
   ],
   "source": [
    "X_test,X_test.shape"
   ]
  },
  {
   "cell_type": "markdown",
   "metadata": {},
   "source": [
    "# <font color = 'red'>3:Huấn luyện mô hình<font>"
   ]
  },
  {
   "cell_type": "code",
   "execution_count": 22,
   "metadata": {},
   "outputs": [
    {
     "data": {
      "text/html": [
       "<style>#sk-container-id-1 {color: black;background-color: white;}#sk-container-id-1 pre{padding: 0;}#sk-container-id-1 div.sk-toggleable {background-color: white;}#sk-container-id-1 label.sk-toggleable__label {cursor: pointer;display: block;width: 100%;margin-bottom: 0;padding: 0.3em;box-sizing: border-box;text-align: center;}#sk-container-id-1 label.sk-toggleable__label-arrow:before {content: \"▸\";float: left;margin-right: 0.25em;color: #696969;}#sk-container-id-1 label.sk-toggleable__label-arrow:hover:before {color: black;}#sk-container-id-1 div.sk-estimator:hover label.sk-toggleable__label-arrow:before {color: black;}#sk-container-id-1 div.sk-toggleable__content {max-height: 0;max-width: 0;overflow: hidden;text-align: left;background-color: #f0f8ff;}#sk-container-id-1 div.sk-toggleable__content pre {margin: 0.2em;color: black;border-radius: 0.25em;background-color: #f0f8ff;}#sk-container-id-1 input.sk-toggleable__control:checked~div.sk-toggleable__content {max-height: 200px;max-width: 100%;overflow: auto;}#sk-container-id-1 input.sk-toggleable__control:checked~label.sk-toggleable__label-arrow:before {content: \"▾\";}#sk-container-id-1 div.sk-estimator input.sk-toggleable__control:checked~label.sk-toggleable__label {background-color: #d4ebff;}#sk-container-id-1 div.sk-label input.sk-toggleable__control:checked~label.sk-toggleable__label {background-color: #d4ebff;}#sk-container-id-1 input.sk-hidden--visually {border: 0;clip: rect(1px 1px 1px 1px);clip: rect(1px, 1px, 1px, 1px);height: 1px;margin: -1px;overflow: hidden;padding: 0;position: absolute;width: 1px;}#sk-container-id-1 div.sk-estimator {font-family: monospace;background-color: #f0f8ff;border: 1px dotted black;border-radius: 0.25em;box-sizing: border-box;margin-bottom: 0.5em;}#sk-container-id-1 div.sk-estimator:hover {background-color: #d4ebff;}#sk-container-id-1 div.sk-parallel-item::after {content: \"\";width: 100%;border-bottom: 1px solid gray;flex-grow: 1;}#sk-container-id-1 div.sk-label:hover label.sk-toggleable__label {background-color: #d4ebff;}#sk-container-id-1 div.sk-serial::before {content: \"\";position: absolute;border-left: 1px solid gray;box-sizing: border-box;top: 0;bottom: 0;left: 50%;z-index: 0;}#sk-container-id-1 div.sk-serial {display: flex;flex-direction: column;align-items: center;background-color: white;padding-right: 0.2em;padding-left: 0.2em;position: relative;}#sk-container-id-1 div.sk-item {position: relative;z-index: 1;}#sk-container-id-1 div.sk-parallel {display: flex;align-items: stretch;justify-content: center;background-color: white;position: relative;}#sk-container-id-1 div.sk-item::before, #sk-container-id-1 div.sk-parallel-item::before {content: \"\";position: absolute;border-left: 1px solid gray;box-sizing: border-box;top: 0;bottom: 0;left: 50%;z-index: -1;}#sk-container-id-1 div.sk-parallel-item {display: flex;flex-direction: column;z-index: 1;position: relative;background-color: white;}#sk-container-id-1 div.sk-parallel-item:first-child::after {align-self: flex-end;width: 50%;}#sk-container-id-1 div.sk-parallel-item:last-child::after {align-self: flex-start;width: 50%;}#sk-container-id-1 div.sk-parallel-item:only-child::after {width: 0;}#sk-container-id-1 div.sk-dashed-wrapped {border: 1px dashed gray;margin: 0 0.4em 0.5em 0.4em;box-sizing: border-box;padding-bottom: 0.4em;background-color: white;}#sk-container-id-1 div.sk-label label {font-family: monospace;font-weight: bold;display: inline-block;line-height: 1.2em;}#sk-container-id-1 div.sk-label-container {text-align: center;}#sk-container-id-1 div.sk-container {/* jupyter's `normalize.less` sets `[hidden] { display: none; }` but bootstrap.min.css set `[hidden] { display: none !important; }` so we also need the `!important` here to be able to override the default hidden behavior on the sphinx rendered scikit-learn.org. See: https://github.com/scikit-learn/scikit-learn/issues/21755 */display: inline-block !important;position: relative;}#sk-container-id-1 div.sk-text-repr-fallback {display: none;}</style><div id=\"sk-container-id-1\" class=\"sk-top-container\"><div class=\"sk-text-repr-fallback\"><pre>LinearRegression()</pre><b>In a Jupyter environment, please rerun this cell to show the HTML representation or trust the notebook. <br />On GitHub, the HTML representation is unable to render, please try loading this page with nbviewer.org.</b></div><div class=\"sk-container\" hidden><div class=\"sk-item\"><div class=\"sk-estimator sk-toggleable\"><input class=\"sk-toggleable__control sk-hidden--visually\" id=\"sk-estimator-id-1\" type=\"checkbox\" checked><label for=\"sk-estimator-id-1\" class=\"sk-toggleable__label sk-toggleable__label-arrow\">LinearRegression</label><div class=\"sk-toggleable__content\"><pre>LinearRegression()</pre></div></div></div></div></div>"
      ],
      "text/plain": [
       "LinearRegression()"
      ]
     },
     "execution_count": 22,
     "metadata": {},
     "output_type": "execute_result"
    }
   ],
   "source": [
    "# Mô hình hồi quy tuyến tính\n",
    "model = LinearRegression()\n",
    "model.fit(X_train, y_train) # fit chính là hàm đào tạo"
   ]
  },
  {
   "cell_type": "markdown",
   "metadata": {},
   "source": [
    "# <font color=\"red\">4:Đánh giá mô hình</font>"
   ]
  },
  {
   "cell_type": "code",
   "execution_count": 23,
   "metadata": {},
   "outputs": [],
   "source": [
    "from sklearn.metrics import mean_squared_error, r2_score\n",
    "#mean_squared_error càng thấp(về 0) càng tốt\n",
    "#r2_score càng cao càng tốt"
   ]
  },
  {
   "cell_type": "code",
   "execution_count": 24,
   "metadata": {},
   "outputs": [],
   "source": [
    "y_pred = model.predict(X_test) #dự báo y_pred dựa trên tập x_test\n",
    "y_pred_train = model.predict(X_train)\n",
    "# Đánh giá mô hình bằng một số các metric, gói gọn vào 1 hàm để sử dụng ở phần sau\n",
    "def rate(y_test, y_pred,y_train,y_pred_train):\n",
    "    print('--------Kết quả trên dữ liệu huấn luyện-------')\n",
    "    mse_train = mean_squared_error(y_train, y_pred_train)\n",
    "    r2_train = r2_score(y_train, y_pred_train)\n",
    "\n",
    "    print(\"Mean Squared Error (MSE):\", mse_train)\n",
    "    print(\"R-squared (R2) Score:\", r2_train)\n",
    "\n",
    "    print('--------Kết quả thẩm định-------')\n",
    "    mse = mean_squared_error(y_test, y_pred)\n",
    "    r2 = r2_score(y_test, y_pred)\n",
    "\n",
    "    print(\"Mean Squared Error (MSE):\", mse)\n",
    "    print(\"R-squared (R2) Score:\", r2)"
   ]
  },
  {
   "cell_type": "code",
   "execution_count": 25,
   "metadata": {},
   "outputs": [
    {
     "data": {
      "text/plain": [
       "(1007,)"
      ]
     },
     "execution_count": 25,
     "metadata": {},
     "output_type": "execute_result"
    }
   ],
   "source": [
    "y_pred.shape"
   ]
  },
  {
   "cell_type": "code",
   "execution_count": 26,
   "metadata": {},
   "outputs": [
    {
     "data": {
      "text/plain": [
       "(1007,)"
      ]
     },
     "execution_count": 26,
     "metadata": {},
     "output_type": "execute_result"
    }
   ],
   "source": [
    "y_test.shape"
   ]
  },
  {
   "cell_type": "code",
   "execution_count": 27,
   "metadata": {},
   "outputs": [
    {
     "name": "stdout",
     "output_type": "stream",
     "text": [
      "--------Kết quả trên dữ liệu huấn luyện-------\n",
      "Mean Squared Error (MSE): 1.460425067971154e-27\n",
      "R-squared (R2) Score: 1.0\n",
      "--------Kết quả thẩm định-------\n",
      "Mean Squared Error (MSE): 1.473156760077097e-27\n",
      "R-squared (R2) Score: 1.0\n"
     ]
    }
   ],
   "source": [
    "rate(y_test, y_pred,y_train,y_pred_train)"
   ]
  },
  {
   "cell_type": "code",
   "execution_count": 28,
   "metadata": {},
   "outputs": [
    {
     "name": "stdout",
     "output_type": "stream",
     "text": [
      "Date\n",
      "2018-04-09     70.304001\n",
      "2022-06-09    116.150002\n",
      "2012-12-12     12.588000\n",
      "2020-08-31    172.548004\n",
      "2008-11-04      2.922500\n",
      "                 ...    \n",
      "2013-10-22     16.627001\n",
      "2018-03-14     79.550003\n",
      "2005-08-22      2.188500\n",
      "2023-05-08    105.830002\n",
      "2008-10-31      2.862000\n",
      "Name: Adj Close, Length: 1007, dtype: float64\n"
     ]
    }
   ],
   "source": [
    "print(y_test)"
   ]
  },
  {
   "cell_type": "code",
   "execution_count": 29,
   "metadata": {},
   "outputs": [
    {
     "name": "stdout",
     "output_type": "stream",
     "text": [
      "[ 70.30400085 116.15000153  12.5880003  ...   2.18849993 105.83000183\n",
      "   2.86199999]\n"
     ]
    }
   ],
   "source": [
    "print(y_pred)"
   ]
  },
  {
   "cell_type": "code",
   "execution_count": 30,
   "metadata": {},
   "outputs": [
    {
     "data": {
      "text/html": [
       "<div>\n",
       "<style scoped>\n",
       "    .dataframe tbody tr th:only-of-type {\n",
       "        vertical-align: middle;\n",
       "    }\n",
       "\n",
       "    .dataframe tbody tr th {\n",
       "        vertical-align: top;\n",
       "    }\n",
       "\n",
       "    .dataframe thead th {\n",
       "        text-align: right;\n",
       "    }\n",
       "</style>\n",
       "<table border=\"1\" class=\"dataframe\">\n",
       "  <thead>\n",
       "    <tr style=\"text-align: right;\">\n",
       "      <th></th>\n",
       "      <th>Actual</th>\n",
       "      <th>Predicted</th>\n",
       "    </tr>\n",
       "    <tr>\n",
       "      <th>Date</th>\n",
       "      <th></th>\n",
       "      <th></th>\n",
       "    </tr>\n",
       "  </thead>\n",
       "  <tbody>\n",
       "    <tr>\n",
       "      <th>2018-04-09</th>\n",
       "      <td>70.304001</td>\n",
       "      <td>70.304001</td>\n",
       "    </tr>\n",
       "    <tr>\n",
       "      <th>2022-06-09</th>\n",
       "      <td>116.150002</td>\n",
       "      <td>116.150002</td>\n",
       "    </tr>\n",
       "    <tr>\n",
       "      <th>2012-12-12</th>\n",
       "      <td>12.588000</td>\n",
       "      <td>12.588000</td>\n",
       "    </tr>\n",
       "    <tr>\n",
       "      <th>2020-08-31</th>\n",
       "      <td>172.548004</td>\n",
       "      <td>172.548004</td>\n",
       "    </tr>\n",
       "    <tr>\n",
       "      <th>2008-11-04</th>\n",
       "      <td>2.922500</td>\n",
       "      <td>2.922500</td>\n",
       "    </tr>\n",
       "    <tr>\n",
       "      <th>2013-04-17</th>\n",
       "      <td>13.370000</td>\n",
       "      <td>13.370000</td>\n",
       "    </tr>\n",
       "    <tr>\n",
       "      <th>2004-10-04</th>\n",
       "      <td>2.050500</td>\n",
       "      <td>2.050500</td>\n",
       "    </tr>\n",
       "    <tr>\n",
       "      <th>2020-09-14</th>\n",
       "      <td>155.148499</td>\n",
       "      <td>155.148499</td>\n",
       "    </tr>\n",
       "    <tr>\n",
       "      <th>2020-04-17</th>\n",
       "      <td>118.750000</td>\n",
       "      <td>118.750000</td>\n",
       "    </tr>\n",
       "    <tr>\n",
       "      <th>2004-10-01</th>\n",
       "      <td>2.023500</td>\n",
       "      <td>2.023500</td>\n",
       "    </tr>\n",
       "  </tbody>\n",
       "</table>\n",
       "</div>"
      ],
      "text/plain": [
       "                Actual   Predicted\n",
       "Date                              \n",
       "2018-04-09   70.304001   70.304001\n",
       "2022-06-09  116.150002  116.150002\n",
       "2012-12-12   12.588000   12.588000\n",
       "2020-08-31  172.548004  172.548004\n",
       "2008-11-04    2.922500    2.922500\n",
       "2013-04-17   13.370000   13.370000\n",
       "2004-10-04    2.050500    2.050500\n",
       "2020-09-14  155.148499  155.148499\n",
       "2020-04-17  118.750000  118.750000\n",
       "2004-10-01    2.023500    2.023500"
      ]
     },
     "execution_count": 30,
     "metadata": {},
     "output_type": "execute_result"
    }
   ],
   "source": [
    "df_result = pd.DataFrame({'Actual':y_test, 'Predicted': y_pred})\n",
    "df_compare = df_result.head(10)\n",
    "df_compare\n",
    "#so sánh dữ liệu thực tế với dự đoán"
   ]
  },
  {
   "cell_type": "code",
   "execution_count": 31,
   "metadata": {},
   "outputs": [
    {
     "data": {
      "text/plain": [
       "<Axes: xlabel='Date'>"
      ]
     },
     "execution_count": 31,
     "metadata": {},
     "output_type": "execute_result"
    },
    {
     "data": {
      "image/png": "[encoded data removed]",
      "text/plain": [
       "<Figure size 640x480 with 1 Axes>"
      ]
     },
     "metadata": {},
     "output_type": "display_data"
    }
   ],
   "source": [
    "df_compare.plot(kind='line')\n",
    "# lập biểu đồ độ để dễ đánh giá"
   ]
  },
  {
   "cell_type": "markdown",
   "metadata": {},
   "source": [
    "### <font color = \"green\"> Ta thấy mô hình quá tốt<font>"
   ]
  },
  {
   "cell_type": "markdown",
   "metadata": {},
   "source": [
    "# <font color=\"red\">5:Lưu mô hình</font>"
   ]
  },
  {
   "cell_type": "markdown",
   "metadata": {},
   "source": [
    "Ta đang triển khai mô hình trong biến model"
   ]
  },
  {
   "cell_type": "code",
   "execution_count": 32,
   "metadata": {},
   "outputs": [],
   "source": [
    "import pickle\n",
    "# Tải mô hình từ file\n",
    "with open('../Model_data/Amazon.pkl', 'wb') as model_file:\n",
    "    pickle.dump(model, model_file)"
   ]
  }
 ],
 "metadata": {
  "kernelspec": {
   "display_name": "anhkun",
   "language": "python",
   "name": "python3"
  },
  "language_info": {
   "codemirror_mode": {
    "name": "ipython",
    "version": 3
   },
   "file_extension": ".py",
   "mimetype": "text/x-python",
   "name": "python",
   "nbconvert_exporter": "python",
   "pygments_lexer": "ipython3",
   "version": "3.8.16"
  }
 },
 "nbformat": 4,
 "nbformat_minor": 2
}
