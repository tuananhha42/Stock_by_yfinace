{
 "cells": [
  {
   "cell_type": "markdown",
   "metadata": {},
   "source": [
    "# <font color=\"red\">B0:Cài đặt thư viện và import </font>\n",
    "- pip install pandas <br>\n",
    "- pip install numpy <br>\n",
    "- pip install matplotlib <br>\n",
    "- pip install scikit-learn (sklearn) <br>\n",
    "- pip install pickle (nếu lỗi version thì pip install pickle5) <br>\n",
    "- pip install yfinance (data về chứng khoán) <br>"
   ]
  },
  {
   "cell_type": "code",
   "execution_count": 1,
   "metadata": {},
   "outputs": [],
   "source": [
    "import yfinance as yf\n",
    "import pandas as pd\n",
    "import numpy as np\n",
    "import matplotlib.pyplot as plt\n",
    "from sklearn.model_selection import train_test_split\n",
    "from sklearn.linear_model import LinearRegression\n",
    "from sklearn.metrics import mean_squared_error\n"
   ]
  },
  {
   "cell_type": "markdown",
   "metadata": {},
   "source": [
    "# <font color=\"red\">B1:Đọc DATA và khám phá dữ liệu ( Công ty Meta) </font>"
   ]
  },
  {
   "cell_type": "code",
   "execution_count": 2,
   "metadata": {},
   "outputs": [
    {
     "name": "stdout",
     "output_type": "stream",
     "text": [
      "[*********************100%%**********************]  1 of 1 completed\n"
     ]
    }
   ],
   "source": [
    "# Ticker symbol của cổ phiếu bạn muốn dự đoán\n",
    "ticker_symbol = 'META'\n",
    "\n",
    "# Lấy dữ liệu lịch sử giá cổ phiếu\n",
    "stock_data = yf.download(ticker_symbol, start='2003-10-20', end='2023-10-20')\n"
   ]
  },
  {
   "cell_type": "code",
   "execution_count": 3,
   "metadata": {},
   "outputs": [
    {
     "data": {
      "text/html": [
       "<div>\n",
       "<style scoped>\n",
       "    .dataframe tbody tr th:only-of-type {\n",
       "        vertical-align: middle;\n",
       "    }\n",
       "\n",
       "    .dataframe tbody tr th {\n",
       "        vertical-align: top;\n",
       "    }\n",
       "\n",
       "    .dataframe thead th {\n",
       "        text-align: right;\n",
       "    }\n",
       "</style>\n",
       "<table border=\"1\" class=\"dataframe\">\n",
       "  <thead>\n",
       "    <tr style=\"text-align: right;\">\n",
       "      <th></th>\n",
       "      <th>Open</th>\n",
       "      <th>High</th>\n",
       "      <th>Low</th>\n",
       "      <th>Close</th>\n",
       "      <th>Adj Close</th>\n",
       "      <th>Volume</th>\n",
       "    </tr>\n",
       "    <tr>\n",
       "      <th>Date</th>\n",
       "      <th></th>\n",
       "      <th></th>\n",
       "      <th></th>\n",
       "      <th></th>\n",
       "      <th></th>\n",
       "      <th></th>\n",
       "    </tr>\n",
       "  </thead>\n",
       "  <tbody>\n",
       "    <tr>\n",
       "      <th>2012-05-18</th>\n",
       "      <td>42.049999</td>\n",
       "      <td>45.000000</td>\n",
       "      <td>38.000000</td>\n",
       "      <td>38.230000</td>\n",
       "      <td>38.230000</td>\n",
       "      <td>573576400</td>\n",
       "    </tr>\n",
       "    <tr>\n",
       "      <th>2012-05-21</th>\n",
       "      <td>36.529999</td>\n",
       "      <td>36.660000</td>\n",
       "      <td>33.000000</td>\n",
       "      <td>34.029999</td>\n",
       "      <td>34.029999</td>\n",
       "      <td>168192700</td>\n",
       "    </tr>\n",
       "    <tr>\n",
       "      <th>2012-05-22</th>\n",
       "      <td>32.610001</td>\n",
       "      <td>33.590000</td>\n",
       "      <td>30.940001</td>\n",
       "      <td>31.000000</td>\n",
       "      <td>31.000000</td>\n",
       "      <td>101786600</td>\n",
       "    </tr>\n",
       "    <tr>\n",
       "      <th>2012-05-23</th>\n",
       "      <td>31.370001</td>\n",
       "      <td>32.500000</td>\n",
       "      <td>31.360001</td>\n",
       "      <td>32.000000</td>\n",
       "      <td>32.000000</td>\n",
       "      <td>73600000</td>\n",
       "    </tr>\n",
       "    <tr>\n",
       "      <th>2012-05-24</th>\n",
       "      <td>32.950001</td>\n",
       "      <td>33.209999</td>\n",
       "      <td>31.770000</td>\n",
       "      <td>33.029999</td>\n",
       "      <td>33.029999</td>\n",
       "      <td>50237200</td>\n",
       "    </tr>\n",
       "    <tr>\n",
       "      <th>...</th>\n",
       "      <td>...</td>\n",
       "      <td>...</td>\n",
       "      <td>...</td>\n",
       "      <td>...</td>\n",
       "      <td>...</td>\n",
       "      <td>...</td>\n",
       "    </tr>\n",
       "    <tr>\n",
       "      <th>2023-10-13</th>\n",
       "      <td>323.529999</td>\n",
       "      <td>325.049988</td>\n",
       "      <td>312.369995</td>\n",
       "      <td>314.690002</td>\n",
       "      <td>314.690002</td>\n",
       "      <td>21341000</td>\n",
       "    </tr>\n",
       "    <tr>\n",
       "      <th>2023-10-16</th>\n",
       "      <td>318.640015</td>\n",
       "      <td>321.820007</td>\n",
       "      <td>315.519989</td>\n",
       "      <td>321.149994</td>\n",
       "      <td>321.149994</td>\n",
       "      <td>16536100</td>\n",
       "    </tr>\n",
       "    <tr>\n",
       "      <th>2023-10-17</th>\n",
       "      <td>318.179993</td>\n",
       "      <td>324.399994</td>\n",
       "      <td>317.299988</td>\n",
       "      <td>324.000000</td>\n",
       "      <td>324.000000</td>\n",
       "      <td>16387800</td>\n",
       "    </tr>\n",
       "    <tr>\n",
       "      <th>2023-10-18</th>\n",
       "      <td>321.390015</td>\n",
       "      <td>325.940002</td>\n",
       "      <td>315.559998</td>\n",
       "      <td>316.970001</td>\n",
       "      <td>316.970001</td>\n",
       "      <td>16851000</td>\n",
       "    </tr>\n",
       "    <tr>\n",
       "      <th>2023-10-19</th>\n",
       "      <td>319.880005</td>\n",
       "      <td>321.890015</td>\n",
       "      <td>311.750000</td>\n",
       "      <td>312.809998</td>\n",
       "      <td>312.809998</td>\n",
       "      <td>18709200</td>\n",
       "    </tr>\n",
       "  </tbody>\n",
       "</table>\n",
       "<p>2874 rows × 6 columns</p>\n",
       "</div>"
      ],
      "text/plain": [
       "                  Open        High         Low       Close   Adj Close   \n",
       "Date                                                                     \n",
       "2012-05-18   42.049999   45.000000   38.000000   38.230000   38.230000  \\\n",
       "2012-05-21   36.529999   36.660000   33.000000   34.029999   34.029999   \n",
       "2012-05-22   32.610001   33.590000   30.940001   31.000000   31.000000   \n",
       "2012-05-23   31.370001   32.500000   31.360001   32.000000   32.000000   \n",
       "2012-05-24   32.950001   33.209999   31.770000   33.029999   33.029999   \n",
       "...                ...         ...         ...         ...         ...   \n",
       "2023-10-13  323.529999  325.049988  312.369995  314.690002  314.690002   \n",
       "2023-10-16  318.640015  321.820007  315.519989  321.149994  321.149994   \n",
       "2023-10-17  318.179993  324.399994  317.299988  324.000000  324.000000   \n",
       "2023-10-18  321.390015  325.940002  315.559998  316.970001  316.970001   \n",
       "2023-10-19  319.880005  321.890015  311.750000  312.809998  312.809998   \n",
       "\n",
       "               Volume  \n",
       "Date                   \n",
       "2012-05-18  573576400  \n",
       "2012-05-21  168192700  \n",
       "2012-05-22  101786600  \n",
       "2012-05-23   73600000  \n",
       "2012-05-24   50237200  \n",
       "...               ...  \n",
       "2023-10-13   21341000  \n",
       "2023-10-16   16536100  \n",
       "2023-10-17   16387800  \n",
       "2023-10-18   16851000  \n",
       "2023-10-19   18709200  \n",
       "\n",
       "[2874 rows x 6 columns]"
      ]
     },
     "execution_count": 3,
     "metadata": {},
     "output_type": "execute_result"
    }
   ],
   "source": [
    "stock_data"
   ]
  },
  {
   "cell_type": "code",
   "execution_count": 4,
   "metadata": {},
   "outputs": [
    {
     "name": "stdout",
     "output_type": "stream",
     "text": [
      "<class 'pandas.core.frame.DataFrame'>\n",
      "DatetimeIndex: 2874 entries, 2012-05-18 to 2023-10-19\n",
      "Data columns (total 6 columns):\n",
      " #   Column     Non-Null Count  Dtype  \n",
      "---  ------     --------------  -----  \n",
      " 0   Open       2874 non-null   float64\n",
      " 1   High       2874 non-null   float64\n",
      " 2   Low        2874 non-null   float64\n",
      " 3   Close      2874 non-null   float64\n",
      " 4   Adj Close  2874 non-null   float64\n",
      " 5   Volume     2874 non-null   int64  \n",
      "dtypes: float64(5), int64(1)\n",
      "memory usage: 157.2 KB\n"
     ]
    }
   ],
   "source": [
    "stock_data.info()"
   ]
  },
  {
   "cell_type": "code",
   "execution_count": 5,
   "metadata": {},
   "outputs": [
    {
     "data": {
      "text/plain": [
       "Index(['Open', 'High', 'Low', 'Close', 'Adj Close', 'Volume'], dtype='object')"
      ]
     },
     "execution_count": 5,
     "metadata": {},
     "output_type": "execute_result"
    }
   ],
   "source": [
    "stock_data.keys()\n",
    "# Những feature của tập dữ liệu"
   ]
  },
  {
   "cell_type": "code",
   "execution_count": 6,
   "metadata": {},
   "outputs": [
    {
     "data": {
      "text/html": [
       "<div>\n",
       "<style scoped>\n",
       "    .dataframe tbody tr th:only-of-type {\n",
       "        vertical-align: middle;\n",
       "    }\n",
       "\n",
       "    .dataframe tbody tr th {\n",
       "        vertical-align: top;\n",
       "    }\n",
       "\n",
       "    .dataframe thead th {\n",
       "        text-align: right;\n",
       "    }\n",
       "</style>\n",
       "<table border=\"1\" class=\"dataframe\">\n",
       "  <thead>\n",
       "    <tr style=\"text-align: right;\">\n",
       "      <th></th>\n",
       "      <th>Open</th>\n",
       "      <th>High</th>\n",
       "      <th>Low</th>\n",
       "      <th>Close</th>\n",
       "      <th>Adj Close</th>\n",
       "      <th>Volume</th>\n",
       "    </tr>\n",
       "  </thead>\n",
       "  <tbody>\n",
       "    <tr>\n",
       "      <th>count</th>\n",
       "      <td>2874.000000</td>\n",
       "      <td>2874.000000</td>\n",
       "      <td>2874.000000</td>\n",
       "      <td>2874.000000</td>\n",
       "      <td>2874.000000</td>\n",
       "      <td>2.874000e+03</td>\n",
       "    </tr>\n",
       "    <tr>\n",
       "      <th>mean</th>\n",
       "      <td>154.716935</td>\n",
       "      <td>156.731514</td>\n",
       "      <td>152.759937</td>\n",
       "      <td>154.779951</td>\n",
       "      <td>154.779951</td>\n",
       "      <td>3.081057e+07</td>\n",
       "    </tr>\n",
       "    <tr>\n",
       "      <th>std</th>\n",
       "      <td>88.826199</td>\n",
       "      <td>89.975269</td>\n",
       "      <td>87.732567</td>\n",
       "      <td>88.865910</td>\n",
       "      <td>88.865910</td>\n",
       "      <td>2.652101e+07</td>\n",
       "    </tr>\n",
       "    <tr>\n",
       "      <th>min</th>\n",
       "      <td>18.080000</td>\n",
       "      <td>18.270000</td>\n",
       "      <td>17.549999</td>\n",
       "      <td>17.730000</td>\n",
       "      <td>17.730000</td>\n",
       "      <td>5.913100e+06</td>\n",
       "    </tr>\n",
       "    <tr>\n",
       "      <th>25%</th>\n",
       "      <td>80.182501</td>\n",
       "      <td>81.152502</td>\n",
       "      <td>79.474998</td>\n",
       "      <td>80.472502</td>\n",
       "      <td>80.472502</td>\n",
       "      <td>1.638815e+07</td>\n",
       "    </tr>\n",
       "    <tr>\n",
       "      <th>50%</th>\n",
       "      <td>151.715004</td>\n",
       "      <td>153.455002</td>\n",
       "      <td>149.755005</td>\n",
       "      <td>151.500000</td>\n",
       "      <td>151.500000</td>\n",
       "      <td>2.308740e+07</td>\n",
       "    </tr>\n",
       "    <tr>\n",
       "      <th>75%</th>\n",
       "      <td>200.445000</td>\n",
       "      <td>203.472500</td>\n",
       "      <td>198.200005</td>\n",
       "      <td>200.764999</td>\n",
       "      <td>200.764999</td>\n",
       "      <td>3.541212e+07</td>\n",
       "    </tr>\n",
       "    <tr>\n",
       "      <th>max</th>\n",
       "      <td>381.679993</td>\n",
       "      <td>384.329987</td>\n",
       "      <td>378.809998</td>\n",
       "      <td>382.179993</td>\n",
       "      <td>382.179993</td>\n",
       "      <td>5.735764e+08</td>\n",
       "    </tr>\n",
       "  </tbody>\n",
       "</table>\n",
       "</div>"
      ],
      "text/plain": [
       "              Open         High          Low        Close    Adj Close   \n",
       "count  2874.000000  2874.000000  2874.000000  2874.000000  2874.000000  \\\n",
       "mean    154.716935   156.731514   152.759937   154.779951   154.779951   \n",
       "std      88.826199    89.975269    87.732567    88.865910    88.865910   \n",
       "min      18.080000    18.270000    17.549999    17.730000    17.730000   \n",
       "25%      80.182501    81.152502    79.474998    80.472502    80.472502   \n",
       "50%     151.715004   153.455002   149.755005   151.500000   151.500000   \n",
       "75%     200.445000   203.472500   198.200005   200.764999   200.764999   \n",
       "max     381.679993   384.329987   378.809998   382.179993   382.179993   \n",
       "\n",
       "             Volume  \n",
       "count  2.874000e+03  \n",
       "mean   3.081057e+07  \n",
       "std    2.652101e+07  \n",
       "min    5.913100e+06  \n",
       "25%    1.638815e+07  \n",
       "50%    2.308740e+07  \n",
       "75%    3.541212e+07  \n",
       "max    5.735764e+08  "
      ]
     },
     "execution_count": 6,
     "metadata": {},
     "output_type": "execute_result"
    }
   ],
   "source": [
    "stock_data.describe()\n",
    "# Thống kê mô tả về tập dữ liệu"
   ]
  },
  {
   "cell_type": "markdown",
   "metadata": {},
   "source": [
    "# <font color=\"red\">B2:Kiểm tra và tiền xử lý dữ liệu(nếu có) </font>"
   ]
  },
  {
   "cell_type": "code",
   "execution_count": 7,
   "metadata": {},
   "outputs": [
    {
     "data": {
      "text/plain": [
       "(2874, 6)"
      ]
     },
     "execution_count": 7,
     "metadata": {},
     "output_type": "execute_result"
    }
   ],
   "source": [
    "stock_data.shape\n",
    "# kích thước dữ liệu"
   ]
  },
  {
   "cell_type": "code",
   "execution_count": 8,
   "metadata": {},
   "outputs": [
    {
     "data": {
      "text/plain": [
       "Open         float64\n",
       "High         float64\n",
       "Low          float64\n",
       "Close        float64\n",
       "Adj Close    float64\n",
       "Volume         int64\n",
       "dtype: object"
      ]
     },
     "execution_count": 8,
     "metadata": {},
     "output_type": "execute_result"
    }
   ],
   "source": [
    "stock_data.dtypes\n",
    "#Kiểu dữ liệu của từng feature"
   ]
  },
  {
   "cell_type": "code",
   "execution_count": 9,
   "metadata": {},
   "outputs": [
    {
     "data": {
      "text/plain": [
       "Open         0\n",
       "High         0\n",
       "Low          0\n",
       "Close        0\n",
       "Adj Close    0\n",
       "Volume       0\n",
       "dtype: int64"
      ]
     },
     "execution_count": 9,
     "metadata": {},
     "output_type": "execute_result"
    }
   ],
   "source": [
    "stock_data.isnull().sum()\n",
    "#check missing value"
   ]
  },
  {
   "cell_type": "markdown",
   "metadata": {},
   "source": [
    "### <font color = 'yellow' >Ta thấy tập dữ liệu này khá là sạch<font>"
   ]
  },
  {
   "cell_type": "code",
   "execution_count": 10,
   "metadata": {},
   "outputs": [
    {
     "data": {
      "text/plain": [
       "Date\n",
       "2012-05-18     38.230000\n",
       "2012-05-21     34.029999\n",
       "2012-05-22     31.000000\n",
       "2012-05-23     32.000000\n",
       "2012-05-24     33.029999\n",
       "                 ...    \n",
       "2023-10-13    314.690002\n",
       "2023-10-16    321.149994\n",
       "2023-10-17    324.000000\n",
       "2023-10-18    316.970001\n",
       "2023-10-19    312.809998\n",
       "Name: Adj Close, Length: 2874, dtype: float64"
      ]
     },
     "execution_count": 10,
     "metadata": {},
     "output_type": "execute_result"
    }
   ],
   "source": [
    "# Chọn cột 'Adj Close' (giá đóng cửa đã điều chỉnh) làm biến phụ thuộc (y)\n",
    "y = stock_data['Adj Close']\n",
    "y"
   ]
  },
  {
   "cell_type": "code",
   "execution_count": 11,
   "metadata": {},
   "outputs": [
    {
     "data": {
      "image/png": "[encoded data removed]",
      "text/plain": [
       "<Figure size 1200x600 with 1 Axes>"
      ]
     },
     "metadata": {},
     "output_type": "display_data"
    }
   ],
   "source": [
    "# Vẽ biểu đồ đường cho cột 'Adj Close'\n",
    "plt.figure(figsize=(12, 6))\n",
    "plt.plot(stock_data.index, y, label='Adj Close', color='blue')\n",
    "plt.title('Biểu đồ Adj Close')\n",
    "plt.xlabel('Ngày')\n",
    "plt.ylabel('Giá đóng cửa đã điều chỉnh')\n",
    "plt.legend()\n",
    "plt.grid(True)\n",
    "plt.show()"
   ]
  },
  {
   "cell_type": "code",
   "execution_count": 12,
   "metadata": {},
   "outputs": [
    {
     "data": {
      "text/html": [
       "<div>\n",
       "<style scoped>\n",
       "    .dataframe tbody tr th:only-of-type {\n",
       "        vertical-align: middle;\n",
       "    }\n",
       "\n",
       "    .dataframe tbody tr th {\n",
       "        vertical-align: top;\n",
       "    }\n",
       "\n",
       "    .dataframe thead th {\n",
       "        text-align: right;\n",
       "    }\n",
       "</style>\n",
       "<table border=\"1\" class=\"dataframe\">\n",
       "  <thead>\n",
       "    <tr style=\"text-align: right;\">\n",
       "      <th></th>\n",
       "      <th>Open</th>\n",
       "      <th>High</th>\n",
       "      <th>Low</th>\n",
       "      <th>Close</th>\n",
       "      <th>Volume</th>\n",
       "    </tr>\n",
       "    <tr>\n",
       "      <th>Date</th>\n",
       "      <th></th>\n",
       "      <th></th>\n",
       "      <th></th>\n",
       "      <th></th>\n",
       "      <th></th>\n",
       "    </tr>\n",
       "  </thead>\n",
       "  <tbody>\n",
       "    <tr>\n",
       "      <th>2012-05-18</th>\n",
       "      <td>42.049999</td>\n",
       "      <td>45.000000</td>\n",
       "      <td>38.000000</td>\n",
       "      <td>38.230000</td>\n",
       "      <td>573576400</td>\n",
       "    </tr>\n",
       "    <tr>\n",
       "      <th>2012-05-21</th>\n",
       "      <td>36.529999</td>\n",
       "      <td>36.660000</td>\n",
       "      <td>33.000000</td>\n",
       "      <td>34.029999</td>\n",
       "      <td>168192700</td>\n",
       "    </tr>\n",
       "    <tr>\n",
       "      <th>2012-05-22</th>\n",
       "      <td>32.610001</td>\n",
       "      <td>33.590000</td>\n",
       "      <td>30.940001</td>\n",
       "      <td>31.000000</td>\n",
       "      <td>101786600</td>\n",
       "    </tr>\n",
       "    <tr>\n",
       "      <th>2012-05-23</th>\n",
       "      <td>31.370001</td>\n",
       "      <td>32.500000</td>\n",
       "      <td>31.360001</td>\n",
       "      <td>32.000000</td>\n",
       "      <td>73600000</td>\n",
       "    </tr>\n",
       "    <tr>\n",
       "      <th>2012-05-24</th>\n",
       "      <td>32.950001</td>\n",
       "      <td>33.209999</td>\n",
       "      <td>31.770000</td>\n",
       "      <td>33.029999</td>\n",
       "      <td>50237200</td>\n",
       "    </tr>\n",
       "    <tr>\n",
       "      <th>...</th>\n",
       "      <td>...</td>\n",
       "      <td>...</td>\n",
       "      <td>...</td>\n",
       "      <td>...</td>\n",
       "      <td>...</td>\n",
       "    </tr>\n",
       "    <tr>\n",
       "      <th>2023-10-13</th>\n",
       "      <td>323.529999</td>\n",
       "      <td>325.049988</td>\n",
       "      <td>312.369995</td>\n",
       "      <td>314.690002</td>\n",
       "      <td>21341000</td>\n",
       "    </tr>\n",
       "    <tr>\n",
       "      <th>2023-10-16</th>\n",
       "      <td>318.640015</td>\n",
       "      <td>321.820007</td>\n",
       "      <td>315.519989</td>\n",
       "      <td>321.149994</td>\n",
       "      <td>16536100</td>\n",
       "    </tr>\n",
       "    <tr>\n",
       "      <th>2023-10-17</th>\n",
       "      <td>318.179993</td>\n",
       "      <td>324.399994</td>\n",
       "      <td>317.299988</td>\n",
       "      <td>324.000000</td>\n",
       "      <td>16387800</td>\n",
       "    </tr>\n",
       "    <tr>\n",
       "      <th>2023-10-18</th>\n",
       "      <td>321.390015</td>\n",
       "      <td>325.940002</td>\n",
       "      <td>315.559998</td>\n",
       "      <td>316.970001</td>\n",
       "      <td>16851000</td>\n",
       "    </tr>\n",
       "    <tr>\n",
       "      <th>2023-10-19</th>\n",
       "      <td>319.880005</td>\n",
       "      <td>321.890015</td>\n",
       "      <td>311.750000</td>\n",
       "      <td>312.809998</td>\n",
       "      <td>18709200</td>\n",
       "    </tr>\n",
       "  </tbody>\n",
       "</table>\n",
       "<p>2874 rows × 5 columns</p>\n",
       "</div>"
      ],
      "text/plain": [
       "                  Open        High         Low       Close     Volume\n",
       "Date                                                                 \n",
       "2012-05-18   42.049999   45.000000   38.000000   38.230000  573576400\n",
       "2012-05-21   36.529999   36.660000   33.000000   34.029999  168192700\n",
       "2012-05-22   32.610001   33.590000   30.940001   31.000000  101786600\n",
       "2012-05-23   31.370001   32.500000   31.360001   32.000000   73600000\n",
       "2012-05-24   32.950001   33.209999   31.770000   33.029999   50237200\n",
       "...                ...         ...         ...         ...        ...\n",
       "2023-10-13  323.529999  325.049988  312.369995  314.690002   21341000\n",
       "2023-10-16  318.640015  321.820007  315.519989  321.149994   16536100\n",
       "2023-10-17  318.179993  324.399994  317.299988  324.000000   16387800\n",
       "2023-10-18  321.390015  325.940002  315.559998  316.970001   16851000\n",
       "2023-10-19  319.880005  321.890015  311.750000  312.809998   18709200\n",
       "\n",
       "[2874 rows x 5 columns]"
      ]
     },
     "execution_count": 12,
     "metadata": {},
     "output_type": "execute_result"
    }
   ],
   "source": [
    "# Chọn các cột trừ cột 'Adj Close' làm biến độc lập (x)\n",
    "X = stock_data.drop(columns=['Adj Close'])\n",
    "X"
   ]
  },
  {
   "cell_type": "markdown",
   "metadata": {},
   "source": [
    "### <font color = 'yellow' >Thay vì sử dụng chỉ số( index) là số thứ tự thì ta sẽ dùng ngày tháng. Do ko ảnh hưởng đến việc huấn luyện nên ta không cần chuyển về dạng số thứ tự<font>"
   ]
  },
  {
   "cell_type": "code",
   "execution_count": 13,
   "metadata": {},
   "outputs": [],
   "source": [
    "# Chia dữ liệu thành tập huấn luyện và tập kiểm tra\n",
    "X_train, X_test, y_train, y_test = train_test_split(X, y, test_size=0.2, random_state=42)"
   ]
  },
  {
   "cell_type": "code",
   "execution_count": 14,
   "metadata": {},
   "outputs": [
    {
     "name": "stdout",
     "output_type": "stream",
     "text": [
      "(2299, 5)\n",
      "(575, 5)\n",
      "(2299,)\n",
      "(575,)\n"
     ]
    }
   ],
   "source": [
    "print(X_train.shape)\n",
    "print(X_test.shape)\n",
    "print(y_train.shape)\n",
    "print(y_test.shape)\n",
    "#kiểm tra độ lớn của dữ liệu sau khi chia"
   ]
  },
  {
   "cell_type": "code",
   "execution_count": 15,
   "metadata": {},
   "outputs": [
    {
     "data": {
      "text/html": [
       "<div>\n",
       "<style scoped>\n",
       "    .dataframe tbody tr th:only-of-type {\n",
       "        vertical-align: middle;\n",
       "    }\n",
       "\n",
       "    .dataframe tbody tr th {\n",
       "        vertical-align: top;\n",
       "    }\n",
       "\n",
       "    .dataframe thead th {\n",
       "        text-align: right;\n",
       "    }\n",
       "</style>\n",
       "<table border=\"1\" class=\"dataframe\">\n",
       "  <thead>\n",
       "    <tr style=\"text-align: right;\">\n",
       "      <th></th>\n",
       "      <th>Open</th>\n",
       "      <th>High</th>\n",
       "      <th>Low</th>\n",
       "      <th>Close</th>\n",
       "      <th>Volume</th>\n",
       "    </tr>\n",
       "    <tr>\n",
       "      <th>Date</th>\n",
       "      <th></th>\n",
       "      <th></th>\n",
       "      <th></th>\n",
       "      <th></th>\n",
       "      <th></th>\n",
       "    </tr>\n",
       "  </thead>\n",
       "  <tbody>\n",
       "    <tr>\n",
       "      <th>2018-09-07</th>\n",
       "      <td>160.309998</td>\n",
       "      <td>164.630005</td>\n",
       "      <td>160.160004</td>\n",
       "      <td>163.039993</td>\n",
       "      <td>24300600</td>\n",
       "    </tr>\n",
       "    <tr>\n",
       "      <th>2017-02-07</th>\n",
       "      <td>132.240005</td>\n",
       "      <td>133.000000</td>\n",
       "      <td>131.660004</td>\n",
       "      <td>131.839996</td>\n",
       "      <td>14596400</td>\n",
       "    </tr>\n",
       "    <tr>\n",
       "      <th>2014-10-15</th>\n",
       "      <td>71.690002</td>\n",
       "      <td>73.800003</td>\n",
       "      <td>70.320000</td>\n",
       "      <td>73.209999</td>\n",
       "      <td>61528000</td>\n",
       "    </tr>\n",
       "    <tr>\n",
       "      <th>2022-07-27</th>\n",
       "      <td>162.589996</td>\n",
       "      <td>170.869995</td>\n",
       "      <td>162.020004</td>\n",
       "      <td>169.580002</td>\n",
       "      <td>43846600</td>\n",
       "    </tr>\n",
       "    <tr>\n",
       "      <th>2014-10-24</th>\n",
       "      <td>80.199997</td>\n",
       "      <td>80.820000</td>\n",
       "      <td>79.320000</td>\n",
       "      <td>80.669998</td>\n",
       "      <td>32248000</td>\n",
       "    </tr>\n",
       "    <tr>\n",
       "      <th>...</th>\n",
       "      <td>...</td>\n",
       "      <td>...</td>\n",
       "      <td>...</td>\n",
       "      <td>...</td>\n",
       "      <td>...</td>\n",
       "    </tr>\n",
       "    <tr>\n",
       "      <th>2018-11-20</th>\n",
       "      <td>127.029999</td>\n",
       "      <td>134.160004</td>\n",
       "      <td>126.849998</td>\n",
       "      <td>132.429993</td>\n",
       "      <td>41939500</td>\n",
       "    </tr>\n",
       "    <tr>\n",
       "      <th>2016-09-26</th>\n",
       "      <td>127.370003</td>\n",
       "      <td>128.160004</td>\n",
       "      <td>126.800003</td>\n",
       "      <td>127.309998</td>\n",
       "      <td>15064900</td>\n",
       "    </tr>\n",
       "    <tr>\n",
       "      <th>2016-11-14</th>\n",
       "      <td>119.129997</td>\n",
       "      <td>119.129997</td>\n",
       "      <td>113.550003</td>\n",
       "      <td>115.080002</td>\n",
       "      <td>51377000</td>\n",
       "    </tr>\n",
       "    <tr>\n",
       "      <th>2017-07-12</th>\n",
       "      <td>156.490005</td>\n",
       "      <td>159.160004</td>\n",
       "      <td>156.199997</td>\n",
       "      <td>158.899994</td>\n",
       "      <td>22739400</td>\n",
       "    </tr>\n",
       "    <tr>\n",
       "      <th>2015-10-20</th>\n",
       "      <td>98.730003</td>\n",
       "      <td>99.589996</td>\n",
       "      <td>96.559998</td>\n",
       "      <td>97.000000</td>\n",
       "      <td>30881800</td>\n",
       "    </tr>\n",
       "  </tbody>\n",
       "</table>\n",
       "<p>2299 rows × 5 columns</p>\n",
       "</div>"
      ],
      "text/plain": [
       "                  Open        High         Low       Close    Volume\n",
       "Date                                                                \n",
       "2018-09-07  160.309998  164.630005  160.160004  163.039993  24300600\n",
       "2017-02-07  132.240005  133.000000  131.660004  131.839996  14596400\n",
       "2014-10-15   71.690002   73.800003   70.320000   73.209999  61528000\n",
       "2022-07-27  162.589996  170.869995  162.020004  169.580002  43846600\n",
       "2014-10-24   80.199997   80.820000   79.320000   80.669998  32248000\n",
       "...                ...         ...         ...         ...       ...\n",
       "2018-11-20  127.029999  134.160004  126.849998  132.429993  41939500\n",
       "2016-09-26  127.370003  128.160004  126.800003  127.309998  15064900\n",
       "2016-11-14  119.129997  119.129997  113.550003  115.080002  51377000\n",
       "2017-07-12  156.490005  159.160004  156.199997  158.899994  22739400\n",
       "2015-10-20   98.730003   99.589996   96.559998   97.000000  30881800\n",
       "\n",
       "[2299 rows x 5 columns]"
      ]
     },
     "execution_count": 15,
     "metadata": {},
     "output_type": "execute_result"
    }
   ],
   "source": [
    "X_train"
   ]
  },
  {
   "cell_type": "code",
   "execution_count": 16,
   "metadata": {},
   "outputs": [
    {
     "data": {
      "text/html": [
       "<div>\n",
       "<style scoped>\n",
       "    .dataframe tbody tr th:only-of-type {\n",
       "        vertical-align: middle;\n",
       "    }\n",
       "\n",
       "    .dataframe tbody tr th {\n",
       "        vertical-align: top;\n",
       "    }\n",
       "\n",
       "    .dataframe thead th {\n",
       "        text-align: right;\n",
       "    }\n",
       "</style>\n",
       "<table border=\"1\" class=\"dataframe\">\n",
       "  <thead>\n",
       "    <tr style=\"text-align: right;\">\n",
       "      <th></th>\n",
       "      <th>Open</th>\n",
       "      <th>High</th>\n",
       "      <th>Low</th>\n",
       "      <th>Close</th>\n",
       "      <th>Volume</th>\n",
       "    </tr>\n",
       "    <tr>\n",
       "      <th>Date</th>\n",
       "      <th></th>\n",
       "      <th></th>\n",
       "      <th></th>\n",
       "      <th></th>\n",
       "      <th></th>\n",
       "    </tr>\n",
       "  </thead>\n",
       "  <tbody>\n",
       "    <tr>\n",
       "      <th>2015-04-15</th>\n",
       "      <td>83.550003</td>\n",
       "      <td>83.660004</td>\n",
       "      <td>82.269997</td>\n",
       "      <td>82.709999</td>\n",
       "      <td>22390900</td>\n",
       "    </tr>\n",
       "    <tr>\n",
       "      <th>2020-08-10</th>\n",
       "      <td>268.040009</td>\n",
       "      <td>273.859985</td>\n",
       "      <td>259.690002</td>\n",
       "      <td>263.000000</td>\n",
       "      <td>30248800</td>\n",
       "    </tr>\n",
       "    <tr>\n",
       "      <th>2017-07-05</th>\n",
       "      <td>149.000000</td>\n",
       "      <td>150.850006</td>\n",
       "      <td>148.130005</td>\n",
       "      <td>150.339996</td>\n",
       "      <td>14334300</td>\n",
       "    </tr>\n",
       "    <tr>\n",
       "      <th>2019-04-18</th>\n",
       "      <td>178.800003</td>\n",
       "      <td>178.880005</td>\n",
       "      <td>177.339996</td>\n",
       "      <td>178.279999</td>\n",
       "      <td>11655600</td>\n",
       "    </tr>\n",
       "    <tr>\n",
       "      <th>2016-02-10</th>\n",
       "      <td>101.550003</td>\n",
       "      <td>103.250000</td>\n",
       "      <td>100.239998</td>\n",
       "      <td>101.000000</td>\n",
       "      <td>45179400</td>\n",
       "    </tr>\n",
       "    <tr>\n",
       "      <th>...</th>\n",
       "      <td>...</td>\n",
       "      <td>...</td>\n",
       "      <td>...</td>\n",
       "      <td>...</td>\n",
       "      <td>...</td>\n",
       "    </tr>\n",
       "    <tr>\n",
       "      <th>2019-11-14</th>\n",
       "      <td>192.929993</td>\n",
       "      <td>194.029999</td>\n",
       "      <td>191.449997</td>\n",
       "      <td>193.149994</td>\n",
       "      <td>9040500</td>\n",
       "    </tr>\n",
       "    <tr>\n",
       "      <th>2013-01-14</th>\n",
       "      <td>32.080002</td>\n",
       "      <td>32.209999</td>\n",
       "      <td>30.620001</td>\n",
       "      <td>30.950001</td>\n",
       "      <td>98892800</td>\n",
       "    </tr>\n",
       "    <tr>\n",
       "      <th>2019-12-30</th>\n",
       "      <td>207.860001</td>\n",
       "      <td>207.899994</td>\n",
       "      <td>203.899994</td>\n",
       "      <td>204.410004</td>\n",
       "      <td>10524300</td>\n",
       "    </tr>\n",
       "    <tr>\n",
       "      <th>2013-05-22</th>\n",
       "      <td>25.650000</td>\n",
       "      <td>25.850000</td>\n",
       "      <td>24.920000</td>\n",
       "      <td>25.160000</td>\n",
       "      <td>45314500</td>\n",
       "    </tr>\n",
       "    <tr>\n",
       "      <th>2020-04-07</th>\n",
       "      <td>171.789993</td>\n",
       "      <td>173.389999</td>\n",
       "      <td>166.009995</td>\n",
       "      <td>168.830002</td>\n",
       "      <td>31411900</td>\n",
       "    </tr>\n",
       "  </tbody>\n",
       "</table>\n",
       "<p>575 rows × 5 columns</p>\n",
       "</div>"
      ],
      "text/plain": [
       "                  Open        High         Low       Close    Volume\n",
       "Date                                                                \n",
       "2015-04-15   83.550003   83.660004   82.269997   82.709999  22390900\n",
       "2020-08-10  268.040009  273.859985  259.690002  263.000000  30248800\n",
       "2017-07-05  149.000000  150.850006  148.130005  150.339996  14334300\n",
       "2019-04-18  178.800003  178.880005  177.339996  178.279999  11655600\n",
       "2016-02-10  101.550003  103.250000  100.239998  101.000000  45179400\n",
       "...                ...         ...         ...         ...       ...\n",
       "2019-11-14  192.929993  194.029999  191.449997  193.149994   9040500\n",
       "2013-01-14   32.080002   32.209999   30.620001   30.950001  98892800\n",
       "2019-12-30  207.860001  207.899994  203.899994  204.410004  10524300\n",
       "2013-05-22   25.650000   25.850000   24.920000   25.160000  45314500\n",
       "2020-04-07  171.789993  173.389999  166.009995  168.830002  31411900\n",
       "\n",
       "[575 rows x 5 columns]"
      ]
     },
     "execution_count": 16,
     "metadata": {},
     "output_type": "execute_result"
    }
   ],
   "source": [
    "X_test"
   ]
  },
  {
   "cell_type": "code",
   "execution_count": 17,
   "metadata": {},
   "outputs": [
    {
     "data": {
      "text/plain": [
       "Date\n",
       "2018-09-07    163.039993\n",
       "2017-02-07    131.839996\n",
       "2014-10-15     73.209999\n",
       "2022-07-27    169.580002\n",
       "2014-10-24     80.669998\n",
       "                 ...    \n",
       "2018-11-20    132.429993\n",
       "2016-09-26    127.309998\n",
       "2016-11-14    115.080002\n",
       "2017-07-12    158.899994\n",
       "2015-10-20     97.000000\n",
       "Name: Adj Close, Length: 2299, dtype: float64"
      ]
     },
     "execution_count": 17,
     "metadata": {},
     "output_type": "execute_result"
    }
   ],
   "source": [
    "y_train"
   ]
  },
  {
   "cell_type": "code",
   "execution_count": 18,
   "metadata": {},
   "outputs": [
    {
     "data": {
      "text/plain": [
       "Date\n",
       "2015-04-15     82.709999\n",
       "2020-08-10    263.000000\n",
       "2017-07-05    150.339996\n",
       "2019-04-18    178.279999\n",
       "2016-02-10    101.000000\n",
       "                 ...    \n",
       "2019-11-14    193.149994\n",
       "2013-01-14     30.950001\n",
       "2019-12-30    204.410004\n",
       "2013-05-22     25.160000\n",
       "2020-04-07    168.830002\n",
       "Name: Adj Close, Length: 575, dtype: float64"
      ]
     },
     "execution_count": 18,
     "metadata": {},
     "output_type": "execute_result"
    }
   ],
   "source": [
    "y_test"
   ]
  },
  {
   "cell_type": "markdown",
   "metadata": {},
   "source": [
    "### <font color = 'yellow' >Ta hãy lưu mô hình chuẩn hóa sau vào 1 file, để sau này chúng ta sẽ chuẩn hóa dữ liệu nhập vào theo file này( lưu chuẩn hóa của X vì dữ liệu chúng ta nhập vào là tập dữ liệu X, tức đầu vào)<font>"
   ]
  },
  {
   "cell_type": "code",
   "execution_count": 19,
   "metadata": {},
   "outputs": [],
   "source": [
    "from sklearn.preprocessing import MinMaxScaler\n",
    "minmax_scale = MinMaxScaler()\n",
    "X_train = minmax_scale.fit_transform(X_train)\n",
    "import pickle\n",
    "with open(\"../Scaler_data/Scaler_Meta.pkl\", \"wb\") as file:\n",
    "    pickle.dump(minmax_scale, file)\n",
    "X_test = minmax_scale.transform(X_test)"
   ]
  },
  {
   "cell_type": "code",
   "execution_count": 20,
   "metadata": {},
   "outputs": [
    {
     "data": {
      "text/plain": [
       "(array([[0.39117162, 0.39982519, 0.39475725, 0.39871038, 0.03239156],\n",
       "        [0.31397142, 0.31341858, 0.3158667 , 0.31310193, 0.01529657],\n",
       "        [0.14744225, 0.15169646, 0.14607208, 0.15222939, 0.09797163],\n",
       "        ...,\n",
       "        [0.27791529, 0.2755286 , 0.2657366 , 0.26711484, 0.08008955],\n",
       "        [0.38066559, 0.38488228, 0.3837956 , 0.38735079, 0.02964134],\n",
       "        [0.22180969, 0.22214937, 0.21870674, 0.21750584, 0.04398505]]),\n",
       " (2299, 5))"
      ]
     },
     "execution_count": 20,
     "metadata": {},
     "output_type": "execute_result"
    }
   ],
   "source": [
    "X_train, X_train.shape"
   ]
  },
  {
   "cell_type": "code",
   "execution_count": 21,
   "metadata": {},
   "outputs": [
    {
     "data": {
      "text/plain": [
       "(array([[0.18006052, 0.17863193, 0.17915074, 0.17829606, 0.02902742],\n",
       "        [0.68745878, 0.69821886, 0.67026519, 0.67298671, 0.04286995],\n",
       "        [0.36006601, 0.36218109, 0.36145714, 0.36386335, 0.01483485],\n",
       "        ...,\n",
       "        [0.52194721, 0.51802983, 0.51583346, 0.51222392, 0.00812313],\n",
       "        [0.02081958, 0.02070699, 0.02040082, 0.02038689, 0.06940981],\n",
       "        [0.42274476, 0.42375568, 0.41095055, 0.41459735, 0.04491888]]),\n",
       " (575, 5))"
      ]
     },
     "execution_count": 21,
     "metadata": {},
     "output_type": "execute_result"
    }
   ],
   "source": [
    "X_test,X_test.shape"
   ]
  },
  {
   "cell_type": "markdown",
   "metadata": {},
   "source": [
    "# <font color = 'red'>3:Huấn luyện mô hình<font>"
   ]
  },
  {
   "cell_type": "code",
   "execution_count": 22,
   "metadata": {},
   "outputs": [
    {
     "data": {
      "text/html": [
       "<style>#sk-container-id-1 {color: black;background-color: white;}#sk-container-id-1 pre{padding: 0;}#sk-container-id-1 div.sk-toggleable {background-color: white;}#sk-container-id-1 label.sk-toggleable__label {cursor: pointer;display: block;width: 100%;margin-bottom: 0;padding: 0.3em;box-sizing: border-box;text-align: center;}#sk-container-id-1 label.sk-toggleable__label-arrow:before {content: \"▸\";float: left;margin-right: 0.25em;color: #696969;}#sk-container-id-1 label.sk-toggleable__label-arrow:hover:before {color: black;}#sk-container-id-1 div.sk-estimator:hover label.sk-toggleable__label-arrow:before {color: black;}#sk-container-id-1 div.sk-toggleable__content {max-height: 0;max-width: 0;overflow: hidden;text-align: left;background-color: #f0f8ff;}#sk-container-id-1 div.sk-toggleable__content pre {margin: 0.2em;color: black;border-radius: 0.25em;background-color: #f0f8ff;}#sk-container-id-1 input.sk-toggleable__control:checked~div.sk-toggleable__content {max-height: 200px;max-width: 100%;overflow: auto;}#sk-container-id-1 input.sk-toggleable__control:checked~label.sk-toggleable__label-arrow:before {content: \"▾\";}#sk-container-id-1 div.sk-estimator input.sk-toggleable__control:checked~label.sk-toggleable__label {background-color: #d4ebff;}#sk-container-id-1 div.sk-label input.sk-toggleable__control:checked~label.sk-toggleable__label {background-color: #d4ebff;}#sk-container-id-1 input.sk-hidden--visually {border: 0;clip: rect(1px 1px 1px 1px);clip: rect(1px, 1px, 1px, 1px);height: 1px;margin: -1px;overflow: hidden;padding: 0;position: absolute;width: 1px;}#sk-container-id-1 div.sk-estimator {font-family: monospace;background-color: #f0f8ff;border: 1px dotted black;border-radius: 0.25em;box-sizing: border-box;margin-bottom: 0.5em;}#sk-container-id-1 div.sk-estimator:hover {background-color: #d4ebff;}#sk-container-id-1 div.sk-parallel-item::after {content: \"\";width: 100%;border-bottom: 1px solid gray;flex-grow: 1;}#sk-container-id-1 div.sk-label:hover label.sk-toggleable__label {background-color: #d4ebff;}#sk-container-id-1 div.sk-serial::before {content: \"\";position: absolute;border-left: 1px solid gray;box-sizing: border-box;top: 0;bottom: 0;left: 50%;z-index: 0;}#sk-container-id-1 div.sk-serial {display: flex;flex-direction: column;align-items: center;background-color: white;padding-right: 0.2em;padding-left: 0.2em;position: relative;}#sk-container-id-1 div.sk-item {position: relative;z-index: 1;}#sk-container-id-1 div.sk-parallel {display: flex;align-items: stretch;justify-content: center;background-color: white;position: relative;}#sk-container-id-1 div.sk-item::before, #sk-container-id-1 div.sk-parallel-item::before {content: \"\";position: absolute;border-left: 1px solid gray;box-sizing: border-box;top: 0;bottom: 0;left: 50%;z-index: -1;}#sk-container-id-1 div.sk-parallel-item {display: flex;flex-direction: column;z-index: 1;position: relative;background-color: white;}#sk-container-id-1 div.sk-parallel-item:first-child::after {align-self: flex-end;width: 50%;}#sk-container-id-1 div.sk-parallel-item:last-child::after {align-self: flex-start;width: 50%;}#sk-container-id-1 div.sk-parallel-item:only-child::after {width: 0;}#sk-container-id-1 div.sk-dashed-wrapped {border: 1px dashed gray;margin: 0 0.4em 0.5em 0.4em;box-sizing: border-box;padding-bottom: 0.4em;background-color: white;}#sk-container-id-1 div.sk-label label {font-family: monospace;font-weight: bold;display: inline-block;line-height: 1.2em;}#sk-container-id-1 div.sk-label-container {text-align: center;}#sk-container-id-1 div.sk-container {/* jupyter's `normalize.less` sets `[hidden] { display: none; }` but bootstrap.min.css set `[hidden] { display: none !important; }` so we also need the `!important` here to be able to override the default hidden behavior on the sphinx rendered scikit-learn.org. See: https://github.com/scikit-learn/scikit-learn/issues/21755 */display: inline-block !important;position: relative;}#sk-container-id-1 div.sk-text-repr-fallback {display: none;}</style><div id=\"sk-container-id-1\" class=\"sk-top-container\"><div class=\"sk-text-repr-fallback\"><pre>LinearRegression()</pre><b>In a Jupyter environment, please rerun this cell to show the HTML representation or trust the notebook. <br />On GitHub, the HTML representation is unable to render, please try loading this page with nbviewer.org.</b></div><div class=\"sk-container\" hidden><div class=\"sk-item\"><div class=\"sk-estimator sk-toggleable\"><input class=\"sk-toggleable__control sk-hidden--visually\" id=\"sk-estimator-id-1\" type=\"checkbox\" checked><label for=\"sk-estimator-id-1\" class=\"sk-toggleable__label sk-toggleable__label-arrow\">LinearRegression</label><div class=\"sk-toggleable__content\"><pre>LinearRegression()</pre></div></div></div></div></div>"
      ],
      "text/plain": [
       "LinearRegression()"
      ]
     },
     "execution_count": 22,
     "metadata": {},
     "output_type": "execute_result"
    }
   ],
   "source": [
    "# Mô hình hồi quy tuyến tính\n",
    "model = LinearRegression()\n",
    "model.fit(X_train, y_train) # fit chính là hàm đào tạo"
   ]
  },
  {
   "cell_type": "markdown",
   "metadata": {},
   "source": [
    "# <font color=\"red\">4:Đánh giá mô hình</font>"
   ]
  },
  {
   "cell_type": "code",
   "execution_count": 23,
   "metadata": {},
   "outputs": [],
   "source": [
    "from sklearn.metrics import mean_squared_error, r2_score\n",
    "#mean_squared_error càng thấp(về 0) càng tốt\n",
    "#r2_score càng cao càng tốt"
   ]
  },
  {
   "cell_type": "code",
   "execution_count": 24,
   "metadata": {},
   "outputs": [],
   "source": [
    "y_pred = model.predict(X_test) #dự báo y_pred dựa trên tập x_test\n",
    "y_pred_train = model.predict(X_train)\n",
    "# Đánh giá mô hình bằng một số các metric, gói gọn vào 1 hàm để sử dụng ở phần sau\n",
    "def rate(y_test, y_pred,y_train,y_pred_train):\n",
    "    print('--------Kết quả trên dữ liệu huấn luyện-------')\n",
    "    mse_train = mean_squared_error(y_train, y_pred_train)\n",
    "    r2_train = r2_score(y_train, y_pred_train)\n",
    "\n",
    "    print(\"Mean Squared Error (MSE):\", mse_train)\n",
    "    print(\"R-squared (R2) Score:\", r2_train)\n",
    "\n",
    "    print('--------Kết quả thẩm định-------')\n",
    "    mse = mean_squared_error(y_test, y_pred)\n",
    "    r2 = r2_score(y_test, y_pred)\n",
    "\n",
    "    print(\"Mean Squared Error (MSE):\", mse)\n",
    "    print(\"R-squared (R2) Score:\", r2)"
   ]
  },
  {
   "cell_type": "code",
   "execution_count": 25,
   "metadata": {},
   "outputs": [
    {
     "data": {
      "text/plain": [
       "(575,)"
      ]
     },
     "execution_count": 25,
     "metadata": {},
     "output_type": "execute_result"
    }
   ],
   "source": [
    "y_pred.shape"
   ]
  },
  {
   "cell_type": "code",
   "execution_count": 26,
   "metadata": {},
   "outputs": [
    {
     "data": {
      "text/plain": [
       "(575,)"
      ]
     },
     "execution_count": 26,
     "metadata": {},
     "output_type": "execute_result"
    }
   ],
   "source": [
    "y_test.shape"
   ]
  },
  {
   "cell_type": "code",
   "execution_count": 27,
   "metadata": {},
   "outputs": [
    {
     "name": "stdout",
     "output_type": "stream",
     "text": [
      "--------Kết quả trên dữ liệu huấn luyện-------\n",
      "Mean Squared Error (MSE): 4.175496015617434e-27\n",
      "R-squared (R2) Score: 1.0\n",
      "--------Kết quả thẩm định-------\n",
      "Mean Squared Error (MSE): 4.398106708340512e-27\n",
      "R-squared (R2) Score: 1.0\n"
     ]
    }
   ],
   "source": [
    "rate(y_test, y_pred,y_train,y_pred_train)"
   ]
  },
  {
   "cell_type": "code",
   "execution_count": 28,
   "metadata": {},
   "outputs": [
    {
     "name": "stdout",
     "output_type": "stream",
     "text": [
      "Date\n",
      "2015-04-15     82.709999\n",
      "2020-08-10    263.000000\n",
      "2017-07-05    150.339996\n",
      "2019-04-18    178.279999\n",
      "2016-02-10    101.000000\n",
      "                 ...    \n",
      "2019-11-14    193.149994\n",
      "2013-01-14     30.950001\n",
      "2019-12-30    204.410004\n",
      "2013-05-22     25.160000\n",
      "2020-04-07    168.830002\n",
      "Name: Adj Close, Length: 575, dtype: float64\n"
     ]
    }
   ],
   "source": [
    "print(y_test)"
   ]
  },
  {
   "cell_type": "code",
   "execution_count": 29,
   "metadata": {},
   "outputs": [
    {
     "name": "stdout",
     "output_type": "stream",
     "text": [
      "[ 82.70999908 263.         150.33999634 178.27999878 101.\n",
      " 124.90000153 180.86999512 152.13000488 128.6499939  114.48000336\n",
      " 285.29000854  87.55000305  98.47000122 170.80000305 221.49000549\n",
      " 188.47000122  35.43000031 120.75       114.16000366 162.92999268\n",
      " 173.50999451 204.19000244 258.32998657 185.08999634 206.17999268\n",
      "  50.11000061  54.56000137  62.75999832 286.01998901  94.44999695\n",
      " 171.6499939   28.63999939 175.72999573 346.22000122 203.77000427\n",
      " 302.54998779 154.47000122  25.12999916 185.36999512 158.05000305\n",
      " 101.61000061 245.41999817 145.47000122 184.75999451 186.82000732\n",
      " 134.52000427 104.04000092  41.34000015 198.44999695 308.86999512\n",
      " 173.74000549 148.24000549 298.95999146 373.92001343  41.77999878\n",
      " 181.46000671 114.19999695 113.93000031  68.73999786  55.90999985\n",
      "  31.71999931 158.53999329 149.00999451 184.         155.27000427\n",
      " 121.91999817 221.44000244 191.63000488 116.34999847 316.97000122\n",
      " 239.72999573 334.36999512 185.36999512 190.28999329 202.08000183\n",
      " 186.05999756 117.65000153 262.04000854 188.13999939 271.86999512\n",
      " 109.58000183  97.51000214  77.55999756  78.51000214  63.29999924\n",
      "  75.19000244 193.99000549 188.63999939 167.77999878 130.08000183\n",
      " 122.15000153 134.19000244 182.67999268 188.33999634 199.69999695\n",
      " 328.73001099  22.17000008 359.95999146  31.46999931 160.58000183\n",
      "  19.44000053 192.02999878 135.67999268 324.17001343 194.11000061\n",
      " 166.80000305 155.38999939 327.79000854  82.13999939 204.86999512\n",
      " 220.17999268 120.80000305 108.98999786  27.97999954  37.02000046\n",
      " 138.61000061 178.99000549  57.95999908  57.24000168  82.05000305\n",
      "  34.36000061 150.3500061  316.55999756  64.31999969 139.91999817\n",
      " 207.07000732 237.75999451 188.27999878 164.33999634 160.86999512\n",
      " 190.8999939  171.05999756  30.77000046 170.27999878 195.83999634\n",
      " 108.77999878 280.82000732  41.29000092 332.29000854  96.98999786\n",
      " 328.52999878  69.40000153  74.56999969 185.92999268 121.76999664\n",
      " 168.16999817  62.18999863 167.41000366 207.83999634  18.05999947\n",
      " 181.75999451 133.52999878  19.04999924 278.95999146 133.24000549\n",
      " 162.80999756  28.45000076 336.57998657 294.23999023 210.17999268\n",
      " 119.76000214  20.93000031 148.1000061   27.71999931 187.8500061\n",
      " 208.66999817 351.19000244  86.66999817  41.27999878 166.94999695\n",
      " 177.91000366  73.86000061  90.54000092 168.66000366 193.25999451\n",
      " 169.13000488  95.95999908 159.25999451 351.23999023 136.38000488\n",
      "  94.41000366  58.22999954 302.5        105.93000031 197.03999329\n",
      "  28.75       114.38999939 214.75       174.02000427  27.25\n",
      " 290.52999878 238.86000061  77.45999908  62.86999893  78.37000275\n",
      " 265.29998779  21.98999977  90.44000244  30.97999954  86.05999756\n",
      "  70.83999634 272.42999268 336.76998901  56.75       196.22999573\n",
      "  80.29000092 170.6000061   79.41999817  57.91999817 172.22999573\n",
      "  67.12999725  99.19999695  68.41999817 245.63999939 238.55999756\n",
      "  69.84999847  28.30999947 116.15000153 338.54000854  59.72000122\n",
      " 293.20001221 161.57000732 222.36000061 177.17999268  49.38000107\n",
      " 195.75999451 294.67999268  67.44000244 128.77000427 153.58999634\n",
      " 118.79000092  66.97000122 262.01000977  19.34000015 264.57998657\n",
      " 143.80000305 179.1000061   53.54999924  20.71999931  59.09000015\n",
      " 154.38999939  76.29000092 179.6499939  178.91999817  97.54000092\n",
      "  19.52000046 120.20999908  75.91000366 177.47000122 310.6000061\n",
      " 181.28999329  93.97000122 203.91000366 351.89001465 123.48000336\n",
      " 294.63000488 163.49000549 174.6499939  104.76999664 276.92001343\n",
      " 157.05000305 112.20999908 214.86999512 148.44000244 155.1000061\n",
      " 266.63000488 153.74000549 171.97000122 168.83999634 171.63999939\n",
      "  80.77999878 162.86000061 180.16999817 133.72000122  26.13999939\n",
      " 207.83999634 316.92001343 123.08999634 267.07998657 325.48001099\n",
      " 294.52999878  51.13999939 179.80000305 120.5        163.05999756\n",
      " 120.61000061 153.5        377.57000732  86.91000366 210.1000061\n",
      " 196.21000671  46.72999954 117.08000183 139.6000061  274.19000244\n",
      " 323.76998901 122.51000214  31.10000038 186.1499939  179.50999451\n",
      "  85.65000153  76.23999786  92.30999756 150.03999329  28.45999908\n",
      "  31.07999992 189.75999451  28.76000023  22.86000061 178.16999817\n",
      " 357.48001099  24.37000084 227.8500061   78.40000153 174.1499939\n",
      " 194.77999878 146.55999756 205.72999573 355.70001221  26.26000023\n",
      "  63.50999832 202.83999634  63.54999924 331.26000977 205.25999451\n",
      " 316.55999756  28.          74.56999969 183.55000305 205.25\n",
      "  44.31000137 134.13999939 181.44000244 176.05999756 161.36000061\n",
      "  80.66999817 313.19000244  26.59000015 193.88000488 142.08999634\n",
      " 183.42999268  30.79000092 170.86999512 182.03999329  57.70999908\n",
      " 148.07000732 219.57000732 238.82000732 216.88000488  38.40999985\n",
      "  26.04999924 238.78999329  23.89999962  24.20999908  68.05999756\n",
      " 192.72999573 378.         150.33000183 310.61999512 260.32998657\n",
      " 187.77000427 178.91999817 224.8500061   24.54999924 202.72999573\n",
      " 243.58000183 376.26000977 294.1000061  120.27999878  24.30999947\n",
      " 182.66000366 102.73000336 106.91999817  30.72999954 118.04000092\n",
      " 149.72999573  95.44000244  26.18000031  81.52999878  66.44999695\n",
      " 278.76998901 255.30999756  27.04000092 107.16000366 304.79000854\n",
      " 139.32000732  48.22000122 131.03999329 170.96000671  92.95999908\n",
      " 263.30999756  72.91000366 298.57000732 120.         184.30999756\n",
      " 113.37000275 226.28999329 113.91000366 287.51998901  25.72999954\n",
      "  77.91999817 234.02000427 278.61999512  50.20999908 307.55999756\n",
      "  67.33000183  96.44000244 182.19000244  63.47999954  88.26000214\n",
      " 179.52000427  54.70999908  19.31999969 176.25999451  76.51999664\n",
      "  57.50999832 133.8500061   42.50999832  97.33999634 196.22999573\n",
      " 169.47000122  57.74000168 140.96000671  78.83999634  94.06999969\n",
      " 168.69999695 138.50999451  59.22999954  28.57999992 163.27000427\n",
      "  79.87999725  26.31999969  27.06999969 341.36999512 119.23999786\n",
      " 321.1499939   64.88999939 200.72000122  56.13999939  78.09999847\n",
      "  21.95000076 141.41999817 275.07998657 159.1499939   77.56999969\n",
      " 165.86999512 254.69000244 218.86000061 213.46000671 148.42999268\n",
      " 149.77999878  19.47999954 297.89001465  99.66999817 210.47999573\n",
      "  94.30000305 341.13000488  64.29000092 341.05999756  75.29000092\n",
      "  64.40000153 263.51998901  26.92000008  25.97999954 172.5\n",
      "  25.65999985  22.55999947  20.87999916 252.52999878 264.72000122\n",
      " 147.05999756 177.49000549 179.55999756 319.07998657 206.00999451\n",
      " 268.08999634 112.23999786 294.47000122 168.1499939   60.38999939\n",
      " 151.46000671 326.04000854  73.16999817 160.47000122 172.19000244\n",
      " 106.48999786 189.53999329 338.61999512  25.20999908 230.16000366\n",
      " 312.80999756 187.86999512  54.45000076  80.48000336  37.81000137\n",
      " 177.36000061 267.57000732  66.29000092 157.33000183 305.97000122\n",
      " 190.77999878 184.92999268  27.06999969 171.47000122 173.63999939\n",
      " 329.82000732 239.24000549 193.02999878 261.23999023 127.37000275\n",
      " 128.27000427 274.5         73.51000214 196.63999939  74.58999634\n",
      " 112.25       181.33000183 112.69999695 166.         124.15000153\n",
      "  85.80000305 221.         281.82998657  52.68000031 205.11999512\n",
      "  23.85000038 137.16999817 355.64001465 341.88000488  90.09999847\n",
      " 341.66000366  94.97000122 261.1000061  269.45001221 146.08999634\n",
      " 293.54000854  67.72000122  64.09999847 267.67001343 290.82000732\n",
      "  46.22999954 148.94999695 205.1000061  232.6000061  286.75\n",
      " 154.71000671 118.01000214 340.58999634  80.90000153 179.50999451\n",
      " 306.52999878 282.04998779 124.37000275  66.41000366 183.80000305\n",
      " 157.8999939   79.04000092 362.97000122 141.03999329 119.51999664\n",
      " 252.69000244 258.11999512 196.75       206.30000305 184.19000244\n",
      "  64.44999695  76.15000153  27.43000031 180.13999939  19.5\n",
      " 193.1499939   30.95000076 204.41000366  25.15999985 168.83000183]\n"
     ]
    }
   ],
   "source": [
    "print(y_pred)"
   ]
  },
  {
   "cell_type": "code",
   "execution_count": 30,
   "metadata": {},
   "outputs": [
    {
     "data": {
      "text/html": [
       "<div>\n",
       "<style scoped>\n",
       "    .dataframe tbody tr th:only-of-type {\n",
       "        vertical-align: middle;\n",
       "    }\n",
       "\n",
       "    .dataframe tbody tr th {\n",
       "        vertical-align: top;\n",
       "    }\n",
       "\n",
       "    .dataframe thead th {\n",
       "        text-align: right;\n",
       "    }\n",
       "</style>\n",
       "<table border=\"1\" class=\"dataframe\">\n",
       "  <thead>\n",
       "    <tr style=\"text-align: right;\">\n",
       "      <th></th>\n",
       "      <th>Actual</th>\n",
       "      <th>Predicted</th>\n",
       "    </tr>\n",
       "    <tr>\n",
       "      <th>Date</th>\n",
       "      <th></th>\n",
       "      <th></th>\n",
       "    </tr>\n",
       "  </thead>\n",
       "  <tbody>\n",
       "    <tr>\n",
       "      <th>2015-04-15</th>\n",
       "      <td>82.709999</td>\n",
       "      <td>82.709999</td>\n",
       "    </tr>\n",
       "    <tr>\n",
       "      <th>2020-08-10</th>\n",
       "      <td>263.000000</td>\n",
       "      <td>263.000000</td>\n",
       "    </tr>\n",
       "    <tr>\n",
       "      <th>2017-07-05</th>\n",
       "      <td>150.339996</td>\n",
       "      <td>150.339996</td>\n",
       "    </tr>\n",
       "    <tr>\n",
       "      <th>2019-04-18</th>\n",
       "      <td>178.279999</td>\n",
       "      <td>178.279999</td>\n",
       "    </tr>\n",
       "    <tr>\n",
       "      <th>2016-02-10</th>\n",
       "      <td>101.000000</td>\n",
       "      <td>101.000000</td>\n",
       "    </tr>\n",
       "    <tr>\n",
       "      <th>2016-08-11</th>\n",
       "      <td>124.900002</td>\n",
       "      <td>124.900002</td>\n",
       "    </tr>\n",
       "    <tr>\n",
       "      <th>2019-05-23</th>\n",
       "      <td>180.869995</td>\n",
       "      <td>180.869995</td>\n",
       "    </tr>\n",
       "    <tr>\n",
       "      <th>2017-05-26</th>\n",
       "      <td>152.130005</td>\n",
       "      <td>152.130005</td>\n",
       "    </tr>\n",
       "    <tr>\n",
       "      <th>2016-09-19</th>\n",
       "      <td>128.649994</td>\n",
       "      <td>128.649994</td>\n",
       "    </tr>\n",
       "    <tr>\n",
       "      <th>2022-12-19</th>\n",
       "      <td>114.480003</td>\n",
       "      <td>114.480003</td>\n",
       "    </tr>\n",
       "  </tbody>\n",
       "</table>\n",
       "</div>"
      ],
      "text/plain": [
       "                Actual   Predicted\n",
       "Date                              \n",
       "2015-04-15   82.709999   82.709999\n",
       "2020-08-10  263.000000  263.000000\n",
       "2017-07-05  150.339996  150.339996\n",
       "2019-04-18  178.279999  178.279999\n",
       "2016-02-10  101.000000  101.000000\n",
       "2016-08-11  124.900002  124.900002\n",
       "2019-05-23  180.869995  180.869995\n",
       "2017-05-26  152.130005  152.130005\n",
       "2016-09-19  128.649994  128.649994\n",
       "2022-12-19  114.480003  114.480003"
      ]
     },
     "execution_count": 30,
     "metadata": {},
     "output_type": "execute_result"
    }
   ],
   "source": [
    "df_result = pd.DataFrame({'Actual':y_test, 'Predicted': y_pred})\n",
    "df_compare = df_result.head(10)\n",
    "df_compare\n",
    "#so sánh dữ liệu thực tế với dự đoán"
   ]
  },
  {
   "cell_type": "code",
   "execution_count": 31,
   "metadata": {},
   "outputs": [
    {
     "data": {
      "text/plain": [
       "<Axes: xlabel='Date'>"
      ]
     },
     "execution_count": 31,
     "metadata": {},
     "output_type": "execute_result"
    },
    {
     "data": {
      "image/png": "[encoded data removed]",
      "text/plain": [
       "<Figure size 640x480 with 1 Axes>"
      ]
     },
     "metadata": {},
     "output_type": "display_data"
    }
   ],
   "source": [
    "df_compare.plot(kind='line')\n",
    "# lập biểu đồ độ để dễ đánh giá"
   ]
  },
  {
   "cell_type": "markdown",
   "metadata": {},
   "source": [
    "### <font color = \"green\"> Ta thấy mô hình quá tốt<font>"
   ]
  },
  {
   "cell_type": "markdown",
   "metadata": {},
   "source": [
    "# <font color=\"red\">5:Lưu mô hình</font>"
   ]
  },
  {
   "cell_type": "markdown",
   "metadata": {},
   "source": [
    "Ta đang triển khai mô hình trong biến model"
   ]
  },
  {
   "cell_type": "code",
   "execution_count": 32,
   "metadata": {},
   "outputs": [],
   "source": [
    "import pickle\n",
    "# Tải mô hình từ file\n",
    "with open('../Model_data/Meta.pkl', 'wb') as model_file:\n",
    "    pickle.dump(model, model_file)"
   ]
  }
 ],
 "metadata": {
  "kernelspec": {
   "display_name": "anhkun",
   "language": "python",
   "name": "python3"
  },
  "language_info": {
   "codemirror_mode": {
    "name": "ipython",
    "version": 3
   },
   "file_extension": ".py",
   "mimetype": "text/x-python",
   "name": "python",
   "nbconvert_exporter": "python",
   "pygments_lexer": "ipython3",
   "version": "3.8.16"
  }
 },
 "nbformat": 4,
 "nbformat_minor": 2
}
