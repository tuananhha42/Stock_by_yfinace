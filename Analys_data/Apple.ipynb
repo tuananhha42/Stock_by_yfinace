{
 "cells": [
  {
   "cell_type": "markdown",
   "metadata": {},
   "source": [
    "# <font color=\"red\">B0:Cài đặt thư viện và import </font>\n",
    "- pip install pandas <br>\n",
    "- pip install numpy <br>\n",
    "- pip install matplotlib <br>\n",
    "- pip install scikit-learn (sklearn) <br>\n",
    "- pip install pickle (nếu lỗi version thì pip install pickle5) <br>\n",
    "- pip install yfinance (data về chứng khoán) <br>"
   ]
  },
  {
   "cell_type": "code",
   "execution_count": 1,
   "metadata": {},
   "outputs": [],
   "source": [
    "import yfinance as yf\n",
    "import pandas as pd\n",
    "import numpy as np\n",
    "import matplotlib.pyplot as plt\n",
    "from sklearn.model_selection import train_test_split\n",
    "from sklearn.linear_model import LinearRegression\n",
    "from sklearn.metrics import mean_squared_error\n"
   ]
  },
  {
   "cell_type": "markdown",
   "metadata": {},
   "source": [
    "# <font color=\"red\">B1:Đọc DATA và khám phá dữ liệu ( Công ty Apple) </font>"
   ]
  },
  {
   "cell_type": "code",
   "execution_count": 2,
   "metadata": {},
   "outputs": [
    {
     "name": "stdout",
     "output_type": "stream",
     "text": [
      "[*********************100%%**********************]  1 of 1 completed\n"
     ]
    }
   ],
   "source": [
    "# Ticker symbol của cổ phiếu bạn muốn dự đoán\n",
    "ticker_symbol = 'AAPL'\n",
    "\n",
    "# Lấy dữ liệu lịch sử giá cổ phiếu\n",
    "stock_data = yf.download(ticker_symbol, start='2003-10-20', end='2023-10-20')\n"
   ]
  },
  {
   "cell_type": "code",
   "execution_count": 3,
   "metadata": {},
   "outputs": [
    {
     "data": {
      "text/html": [
       "<div>\n",
       "<style scoped>\n",
       "    .dataframe tbody tr th:only-of-type {\n",
       "        vertical-align: middle;\n",
       "    }\n",
       "\n",
       "    .dataframe tbody tr th {\n",
       "        vertical-align: top;\n",
       "    }\n",
       "\n",
       "    .dataframe thead th {\n",
       "        text-align: right;\n",
       "    }\n",
       "</style>\n",
       "<table border=\"1\" class=\"dataframe\">\n",
       "  <thead>\n",
       "    <tr style=\"text-align: right;\">\n",
       "      <th></th>\n",
       "      <th>Open</th>\n",
       "      <th>High</th>\n",
       "      <th>Low</th>\n",
       "      <th>Close</th>\n",
       "      <th>Adj Close</th>\n",
       "      <th>Volume</th>\n",
       "    </tr>\n",
       "    <tr>\n",
       "      <th>Date</th>\n",
       "      <th></th>\n",
       "      <th></th>\n",
       "      <th></th>\n",
       "      <th></th>\n",
       "      <th></th>\n",
       "      <th></th>\n",
       "    </tr>\n",
       "  </thead>\n",
       "  <tbody>\n",
       "    <tr>\n",
       "      <th>2003-10-20</th>\n",
       "      <td>0.403571</td>\n",
       "      <td>0.416786</td>\n",
       "      <td>0.399643</td>\n",
       "      <td>0.414643</td>\n",
       "      <td>0.351484</td>\n",
       "      <td>279132000</td>\n",
       "    </tr>\n",
       "    <tr>\n",
       "      <th>2003-10-21</th>\n",
       "      <td>0.416250</td>\n",
       "      <td>0.417857</td>\n",
       "      <td>0.406250</td>\n",
       "      <td>0.413929</td>\n",
       "      <td>0.350879</td>\n",
       "      <td>176461600</td>\n",
       "    </tr>\n",
       "    <tr>\n",
       "      <th>2003-10-22</th>\n",
       "      <td>0.409643</td>\n",
       "      <td>0.414286</td>\n",
       "      <td>0.405000</td>\n",
       "      <td>0.406429</td>\n",
       "      <td>0.344522</td>\n",
       "      <td>161599200</td>\n",
       "    </tr>\n",
       "    <tr>\n",
       "      <th>2003-10-23</th>\n",
       "      <td>0.405893</td>\n",
       "      <td>0.413393</td>\n",
       "      <td>0.403393</td>\n",
       "      <td>0.410536</td>\n",
       "      <td>0.348003</td>\n",
       "      <td>165211200</td>\n",
       "    </tr>\n",
       "    <tr>\n",
       "      <th>2003-10-24</th>\n",
       "      <td>0.402857</td>\n",
       "      <td>0.408036</td>\n",
       "      <td>0.396964</td>\n",
       "      <td>0.403571</td>\n",
       "      <td>0.342099</td>\n",
       "      <td>219856000</td>\n",
       "    </tr>\n",
       "    <tr>\n",
       "      <th>...</th>\n",
       "      <td>...</td>\n",
       "      <td>...</td>\n",
       "      <td>...</td>\n",
       "      <td>...</td>\n",
       "      <td>...</td>\n",
       "      <td>...</td>\n",
       "    </tr>\n",
       "    <tr>\n",
       "      <th>2023-10-13</th>\n",
       "      <td>181.419998</td>\n",
       "      <td>181.929993</td>\n",
       "      <td>178.139999</td>\n",
       "      <td>178.850006</td>\n",
       "      <td>178.614685</td>\n",
       "      <td>51427100</td>\n",
       "    </tr>\n",
       "    <tr>\n",
       "      <th>2023-10-16</th>\n",
       "      <td>176.750000</td>\n",
       "      <td>179.080002</td>\n",
       "      <td>176.509995</td>\n",
       "      <td>178.720001</td>\n",
       "      <td>178.484863</td>\n",
       "      <td>52517000</td>\n",
       "    </tr>\n",
       "    <tr>\n",
       "      <th>2023-10-17</th>\n",
       "      <td>176.649994</td>\n",
       "      <td>178.419998</td>\n",
       "      <td>174.800003</td>\n",
       "      <td>177.149994</td>\n",
       "      <td>176.916916</td>\n",
       "      <td>57549400</td>\n",
       "    </tr>\n",
       "    <tr>\n",
       "      <th>2023-10-18</th>\n",
       "      <td>175.580002</td>\n",
       "      <td>177.580002</td>\n",
       "      <td>175.110001</td>\n",
       "      <td>175.839996</td>\n",
       "      <td>175.608643</td>\n",
       "      <td>54764400</td>\n",
       "    </tr>\n",
       "    <tr>\n",
       "      <th>2023-10-19</th>\n",
       "      <td>176.039993</td>\n",
       "      <td>177.839996</td>\n",
       "      <td>175.190002</td>\n",
       "      <td>175.460007</td>\n",
       "      <td>175.229156</td>\n",
       "      <td>59302900</td>\n",
       "    </tr>\n",
       "  </tbody>\n",
       "</table>\n",
       "<p>5035 rows × 6 columns</p>\n",
       "</div>"
      ],
      "text/plain": [
       "                  Open        High         Low       Close   Adj Close   \n",
       "Date                                                                     \n",
       "2003-10-20    0.403571    0.416786    0.399643    0.414643    0.351484  \\\n",
       "2003-10-21    0.416250    0.417857    0.406250    0.413929    0.350879   \n",
       "2003-10-22    0.409643    0.414286    0.405000    0.406429    0.344522   \n",
       "2003-10-23    0.405893    0.413393    0.403393    0.410536    0.348003   \n",
       "2003-10-24    0.402857    0.408036    0.396964    0.403571    0.342099   \n",
       "...                ...         ...         ...         ...         ...   \n",
       "2023-10-13  181.419998  181.929993  178.139999  178.850006  178.614685   \n",
       "2023-10-16  176.750000  179.080002  176.509995  178.720001  178.484863   \n",
       "2023-10-17  176.649994  178.419998  174.800003  177.149994  176.916916   \n",
       "2023-10-18  175.580002  177.580002  175.110001  175.839996  175.608643   \n",
       "2023-10-19  176.039993  177.839996  175.190002  175.460007  175.229156   \n",
       "\n",
       "               Volume  \n",
       "Date                   \n",
       "2003-10-20  279132000  \n",
       "2003-10-21  176461600  \n",
       "2003-10-22  161599200  \n",
       "2003-10-23  165211200  \n",
       "2003-10-24  219856000  \n",
       "...               ...  \n",
       "2023-10-13   51427100  \n",
       "2023-10-16   52517000  \n",
       "2023-10-17   57549400  \n",
       "2023-10-18   54764400  \n",
       "2023-10-19   59302900  \n",
       "\n",
       "[5035 rows x 6 columns]"
      ]
     },
     "execution_count": 3,
     "metadata": {},
     "output_type": "execute_result"
    }
   ],
   "source": [
    "stock_data"
   ]
  },
  {
   "cell_type": "code",
   "execution_count": 4,
   "metadata": {},
   "outputs": [
    {
     "name": "stdout",
     "output_type": "stream",
     "text": [
      "<class 'pandas.core.frame.DataFrame'>\n",
      "DatetimeIndex: 5035 entries, 2003-10-20 to 2023-10-19\n",
      "Data columns (total 6 columns):\n",
      " #   Column     Non-Null Count  Dtype  \n",
      "---  ------     --------------  -----  \n",
      " 0   Open       5035 non-null   float64\n",
      " 1   High       5035 non-null   float64\n",
      " 2   Low        5035 non-null   float64\n",
      " 3   Close      5035 non-null   float64\n",
      " 4   Adj Close  5035 non-null   float64\n",
      " 5   Volume     5035 non-null   int64  \n",
      "dtypes: float64(5), int64(1)\n",
      "memory usage: 275.4 KB\n"
     ]
    }
   ],
   "source": [
    "stock_data.info()"
   ]
  },
  {
   "cell_type": "code",
   "execution_count": 5,
   "metadata": {},
   "outputs": [
    {
     "data": {
      "text/plain": [
       "Index(['Open', 'High', 'Low', 'Close', 'Adj Close', 'Volume'], dtype='object')"
      ]
     },
     "execution_count": 5,
     "metadata": {},
     "output_type": "execute_result"
    }
   ],
   "source": [
    "stock_data.keys()\n",
    "# Những feature của tập dữ liệu"
   ]
  },
  {
   "cell_type": "code",
   "execution_count": 6,
   "metadata": {},
   "outputs": [
    {
     "data": {
      "text/html": [
       "<div>\n",
       "<style scoped>\n",
       "    .dataframe tbody tr th:only-of-type {\n",
       "        vertical-align: middle;\n",
       "    }\n",
       "\n",
       "    .dataframe tbody tr th {\n",
       "        vertical-align: top;\n",
       "    }\n",
       "\n",
       "    .dataframe thead th {\n",
       "        text-align: right;\n",
       "    }\n",
       "</style>\n",
       "<table border=\"1\" class=\"dataframe\">\n",
       "  <thead>\n",
       "    <tr style=\"text-align: right;\">\n",
       "      <th></th>\n",
       "      <th>Open</th>\n",
       "      <th>High</th>\n",
       "      <th>Low</th>\n",
       "      <th>Close</th>\n",
       "      <th>Adj Close</th>\n",
       "      <th>Volume</th>\n",
       "    </tr>\n",
       "  </thead>\n",
       "  <tbody>\n",
       "    <tr>\n",
       "      <th>count</th>\n",
       "      <td>5035.000000</td>\n",
       "      <td>5035.000000</td>\n",
       "      <td>5035.000000</td>\n",
       "      <td>5035.000000</td>\n",
       "      <td>5035.000000</td>\n",
       "      <td>5.035000e+03</td>\n",
       "    </tr>\n",
       "    <tr>\n",
       "      <th>mean</th>\n",
       "      <td>41.064532</td>\n",
       "      <td>41.517863</td>\n",
       "      <td>40.628309</td>\n",
       "      <td>41.090829</td>\n",
       "      <td>39.537489</td>\n",
       "      <td>4.090240e+08</td>\n",
       "    </tr>\n",
       "    <tr>\n",
       "      <th>std</th>\n",
       "      <td>51.311743</td>\n",
       "      <td>51.904384</td>\n",
       "      <td>50.764408</td>\n",
       "      <td>51.358526</td>\n",
       "      <td>51.267895</td>\n",
       "      <td>3.956596e+08</td>\n",
       "    </tr>\n",
       "    <tr>\n",
       "      <th>min</th>\n",
       "      <td>0.350893</td>\n",
       "      <td>0.355179</td>\n",
       "      <td>0.343750</td>\n",
       "      <td>0.351786</td>\n",
       "      <td>0.298202</td>\n",
       "      <td>3.145820e+07</td>\n",
       "    </tr>\n",
       "    <tr>\n",
       "      <th>25%</th>\n",
       "      <td>5.408036</td>\n",
       "      <td>5.499821</td>\n",
       "      <td>5.311250</td>\n",
       "      <td>5.435714</td>\n",
       "      <td>4.607744</td>\n",
       "      <td>1.151032e+08</td>\n",
       "    </tr>\n",
       "    <tr>\n",
       "      <th>50%</th>\n",
       "      <td>20.644644</td>\n",
       "      <td>20.922501</td>\n",
       "      <td>20.425714</td>\n",
       "      <td>20.718929</td>\n",
       "      <td>17.715296</td>\n",
       "      <td>2.754264e+08</td>\n",
       "    </tr>\n",
       "    <tr>\n",
       "      <th>75%</th>\n",
       "      <td>46.801250</td>\n",
       "      <td>47.198750</td>\n",
       "      <td>46.445000</td>\n",
       "      <td>46.817499</td>\n",
       "      <td>44.814848</td>\n",
       "      <td>5.759642e+08</td>\n",
       "    </tr>\n",
       "    <tr>\n",
       "      <th>max</th>\n",
       "      <td>196.240005</td>\n",
       "      <td>198.229996</td>\n",
       "      <td>195.279999</td>\n",
       "      <td>196.449997</td>\n",
       "      <td>195.926956</td>\n",
       "      <td>3.372970e+09</td>\n",
       "    </tr>\n",
       "  </tbody>\n",
       "</table>\n",
       "</div>"
      ],
      "text/plain": [
       "              Open         High          Low        Close    Adj Close   \n",
       "count  5035.000000  5035.000000  5035.000000  5035.000000  5035.000000  \\\n",
       "mean     41.064532    41.517863    40.628309    41.090829    39.537489   \n",
       "std      51.311743    51.904384    50.764408    51.358526    51.267895   \n",
       "min       0.350893     0.355179     0.343750     0.351786     0.298202   \n",
       "25%       5.408036     5.499821     5.311250     5.435714     4.607744   \n",
       "50%      20.644644    20.922501    20.425714    20.718929    17.715296   \n",
       "75%      46.801250    47.198750    46.445000    46.817499    44.814848   \n",
       "max     196.240005   198.229996   195.279999   196.449997   195.926956   \n",
       "\n",
       "             Volume  \n",
       "count  5.035000e+03  \n",
       "mean   4.090240e+08  \n",
       "std    3.956596e+08  \n",
       "min    3.145820e+07  \n",
       "25%    1.151032e+08  \n",
       "50%    2.754264e+08  \n",
       "75%    5.759642e+08  \n",
       "max    3.372970e+09  "
      ]
     },
     "execution_count": 6,
     "metadata": {},
     "output_type": "execute_result"
    }
   ],
   "source": [
    "stock_data.describe()\n",
    "# Thống kê mô tả về tập dữ liệu"
   ]
  },
  {
   "cell_type": "markdown",
   "metadata": {},
   "source": [
    "# <font color=\"red\">B2:Kiểm tra và tiền xử lý dữ liệu(nếu có) </font>"
   ]
  },
  {
   "cell_type": "code",
   "execution_count": 7,
   "metadata": {},
   "outputs": [
    {
     "data": {
      "text/plain": [
       "(5035, 6)"
      ]
     },
     "execution_count": 7,
     "metadata": {},
     "output_type": "execute_result"
    }
   ],
   "source": [
    "stock_data.shape\n",
    "# kích thước dữ liệu"
   ]
  },
  {
   "cell_type": "code",
   "execution_count": 8,
   "metadata": {},
   "outputs": [
    {
     "data": {
      "text/plain": [
       "Open         float64\n",
       "High         float64\n",
       "Low          float64\n",
       "Close        float64\n",
       "Adj Close    float64\n",
       "Volume         int64\n",
       "dtype: object"
      ]
     },
     "execution_count": 8,
     "metadata": {},
     "output_type": "execute_result"
    }
   ],
   "source": [
    "stock_data.dtypes\n",
    "#Kiểu dữ liệu của từng feature"
   ]
  },
  {
   "cell_type": "code",
   "execution_count": 9,
   "metadata": {},
   "outputs": [
    {
     "data": {
      "text/plain": [
       "Open         0\n",
       "High         0\n",
       "Low          0\n",
       "Close        0\n",
       "Adj Close    0\n",
       "Volume       0\n",
       "dtype: int64"
      ]
     },
     "execution_count": 9,
     "metadata": {},
     "output_type": "execute_result"
    }
   ],
   "source": [
    "stock_data.isnull().sum()\n",
    "#check missing value"
   ]
  },
  {
   "cell_type": "markdown",
   "metadata": {},
   "source": [
    "### <font color = 'yellow' >Ta thấy tập dữ liệu này khá là sạch<font>"
   ]
  },
  {
   "cell_type": "code",
   "execution_count": 10,
   "metadata": {},
   "outputs": [
    {
     "data": {
      "text/plain": [
       "Date\n",
       "2003-10-20      0.351484\n",
       "2003-10-21      0.350879\n",
       "2003-10-22      0.344522\n",
       "2003-10-23      0.348003\n",
       "2003-10-24      0.342099\n",
       "                 ...    \n",
       "2023-10-13    178.614685\n",
       "2023-10-16    178.484863\n",
       "2023-10-17    176.916916\n",
       "2023-10-18    175.608643\n",
       "2023-10-19    175.229156\n",
       "Name: Adj Close, Length: 5035, dtype: float64"
      ]
     },
     "execution_count": 10,
     "metadata": {},
     "output_type": "execute_result"
    }
   ],
   "source": [
    "# Chọn cột 'Adj Close' (giá đóng cửa đã điều chỉnh) làm biến phụ thuộc (y)\n",
    "y = stock_data['Adj Close']\n",
    "y"
   ]
  },
  {
   "cell_type": "code",
   "execution_count": 11,
   "metadata": {},
   "outputs": [
    {
     "data": {
      "image/png": "[encoded data removed]",
      "text/plain": [
       "<Figure size 1200x600 with 1 Axes>"
      ]
     },
     "metadata": {},
     "output_type": "display_data"
    }
   ],
   "source": [
    "# Vẽ biểu đồ đường cho cột 'Adj Close'\n",
    "plt.figure(figsize=(12, 6))\n",
    "plt.plot(stock_data.index, y, label='Adj Close', color='blue')\n",
    "plt.title('Biểu đồ Adj Close')\n",
    "plt.xlabel('Ngày')\n",
    "plt.ylabel('Giá đóng cửa đã điều chỉnh')\n",
    "plt.legend()\n",
    "plt.grid(True)\n",
    "plt.show()"
   ]
  },
  {
   "cell_type": "code",
   "execution_count": 12,
   "metadata": {},
   "outputs": [
    {
     "data": {
      "text/html": [
       "<div>\n",
       "<style scoped>\n",
       "    .dataframe tbody tr th:only-of-type {\n",
       "        vertical-align: middle;\n",
       "    }\n",
       "\n",
       "    .dataframe tbody tr th {\n",
       "        vertical-align: top;\n",
       "    }\n",
       "\n",
       "    .dataframe thead th {\n",
       "        text-align: right;\n",
       "    }\n",
       "</style>\n",
       "<table border=\"1\" class=\"dataframe\">\n",
       "  <thead>\n",
       "    <tr style=\"text-align: right;\">\n",
       "      <th></th>\n",
       "      <th>Open</th>\n",
       "      <th>High</th>\n",
       "      <th>Low</th>\n",
       "      <th>Close</th>\n",
       "      <th>Volume</th>\n",
       "    </tr>\n",
       "    <tr>\n",
       "      <th>Date</th>\n",
       "      <th></th>\n",
       "      <th></th>\n",
       "      <th></th>\n",
       "      <th></th>\n",
       "      <th></th>\n",
       "    </tr>\n",
       "  </thead>\n",
       "  <tbody>\n",
       "    <tr>\n",
       "      <th>2003-10-20</th>\n",
       "      <td>0.403571</td>\n",
       "      <td>0.416786</td>\n",
       "      <td>0.399643</td>\n",
       "      <td>0.414643</td>\n",
       "      <td>279132000</td>\n",
       "    </tr>\n",
       "    <tr>\n",
       "      <th>2003-10-21</th>\n",
       "      <td>0.416250</td>\n",
       "      <td>0.417857</td>\n",
       "      <td>0.406250</td>\n",
       "      <td>0.413929</td>\n",
       "      <td>176461600</td>\n",
       "    </tr>\n",
       "    <tr>\n",
       "      <th>2003-10-22</th>\n",
       "      <td>0.409643</td>\n",
       "      <td>0.414286</td>\n",
       "      <td>0.405000</td>\n",
       "      <td>0.406429</td>\n",
       "      <td>161599200</td>\n",
       "    </tr>\n",
       "    <tr>\n",
       "      <th>2003-10-23</th>\n",
       "      <td>0.405893</td>\n",
       "      <td>0.413393</td>\n",
       "      <td>0.403393</td>\n",
       "      <td>0.410536</td>\n",
       "      <td>165211200</td>\n",
       "    </tr>\n",
       "    <tr>\n",
       "      <th>2003-10-24</th>\n",
       "      <td>0.402857</td>\n",
       "      <td>0.408036</td>\n",
       "      <td>0.396964</td>\n",
       "      <td>0.403571</td>\n",
       "      <td>219856000</td>\n",
       "    </tr>\n",
       "    <tr>\n",
       "      <th>...</th>\n",
       "      <td>...</td>\n",
       "      <td>...</td>\n",
       "      <td>...</td>\n",
       "      <td>...</td>\n",
       "      <td>...</td>\n",
       "    </tr>\n",
       "    <tr>\n",
       "      <th>2023-10-13</th>\n",
       "      <td>181.419998</td>\n",
       "      <td>181.929993</td>\n",
       "      <td>178.139999</td>\n",
       "      <td>178.850006</td>\n",
       "      <td>51427100</td>\n",
       "    </tr>\n",
       "    <tr>\n",
       "      <th>2023-10-16</th>\n",
       "      <td>176.750000</td>\n",
       "      <td>179.080002</td>\n",
       "      <td>176.509995</td>\n",
       "      <td>178.720001</td>\n",
       "      <td>52517000</td>\n",
       "    </tr>\n",
       "    <tr>\n",
       "      <th>2023-10-17</th>\n",
       "      <td>176.649994</td>\n",
       "      <td>178.419998</td>\n",
       "      <td>174.800003</td>\n",
       "      <td>177.149994</td>\n",
       "      <td>57549400</td>\n",
       "    </tr>\n",
       "    <tr>\n",
       "      <th>2023-10-18</th>\n",
       "      <td>175.580002</td>\n",
       "      <td>177.580002</td>\n",
       "      <td>175.110001</td>\n",
       "      <td>175.839996</td>\n",
       "      <td>54764400</td>\n",
       "    </tr>\n",
       "    <tr>\n",
       "      <th>2023-10-19</th>\n",
       "      <td>176.039993</td>\n",
       "      <td>177.839996</td>\n",
       "      <td>175.190002</td>\n",
       "      <td>175.460007</td>\n",
       "      <td>59302900</td>\n",
       "    </tr>\n",
       "  </tbody>\n",
       "</table>\n",
       "<p>5035 rows × 5 columns</p>\n",
       "</div>"
      ],
      "text/plain": [
       "                  Open        High         Low       Close     Volume\n",
       "Date                                                                 \n",
       "2003-10-20    0.403571    0.416786    0.399643    0.414643  279132000\n",
       "2003-10-21    0.416250    0.417857    0.406250    0.413929  176461600\n",
       "2003-10-22    0.409643    0.414286    0.405000    0.406429  161599200\n",
       "2003-10-23    0.405893    0.413393    0.403393    0.410536  165211200\n",
       "2003-10-24    0.402857    0.408036    0.396964    0.403571  219856000\n",
       "...                ...         ...         ...         ...        ...\n",
       "2023-10-13  181.419998  181.929993  178.139999  178.850006   51427100\n",
       "2023-10-16  176.750000  179.080002  176.509995  178.720001   52517000\n",
       "2023-10-17  176.649994  178.419998  174.800003  177.149994   57549400\n",
       "2023-10-18  175.580002  177.580002  175.110001  175.839996   54764400\n",
       "2023-10-19  176.039993  177.839996  175.190002  175.460007   59302900\n",
       "\n",
       "[5035 rows x 5 columns]"
      ]
     },
     "execution_count": 12,
     "metadata": {},
     "output_type": "execute_result"
    }
   ],
   "source": [
    "# Chọn các cột trừ cột 'Adj Close' làm biến độc lập (x)\n",
    "X = stock_data.drop(columns=['Adj Close'])\n",
    "X"
   ]
  },
  {
   "cell_type": "markdown",
   "metadata": {},
   "source": [
    "### <font color = 'yellow' >Thay vì sử dụng chỉ số( index) là số thứ tự thì ta sẽ dùng ngày tháng. Do ko ảnh hưởng đến việc huấn luyện nên ta không cần chuyển về dạng số thứ tự<font>"
   ]
  },
  {
   "cell_type": "code",
   "execution_count": 13,
   "metadata": {},
   "outputs": [],
   "source": [
    "# Chia dữ liệu thành tập huấn luyện và tập kiểm tra\n",
    "X_train, X_test, y_train, y_test = train_test_split(X, y, test_size=0.2, random_state=42)"
   ]
  },
  {
   "cell_type": "code",
   "execution_count": 14,
   "metadata": {},
   "outputs": [
    {
     "name": "stdout",
     "output_type": "stream",
     "text": [
      "(4028, 5)\n",
      "(1007, 5)\n",
      "(4028,)\n",
      "(1007,)\n"
     ]
    }
   ],
   "source": [
    "print(X_train.shape)\n",
    "print(X_test.shape)\n",
    "print(y_train.shape)\n",
    "print(y_test.shape)\n",
    "#kiểm tra độ lớn của dữ liệu sau khi chia"
   ]
  },
  {
   "cell_type": "code",
   "execution_count": 15,
   "metadata": {},
   "outputs": [
    {
     "data": {
      "text/html": [
       "<div>\n",
       "<style scoped>\n",
       "    .dataframe tbody tr th:only-of-type {\n",
       "        vertical-align: middle;\n",
       "    }\n",
       "\n",
       "    .dataframe tbody tr th {\n",
       "        vertical-align: top;\n",
       "    }\n",
       "\n",
       "    .dataframe thead th {\n",
       "        text-align: right;\n",
       "    }\n",
       "</style>\n",
       "<table border=\"1\" class=\"dataframe\">\n",
       "  <thead>\n",
       "    <tr style=\"text-align: right;\">\n",
       "      <th></th>\n",
       "      <th>Open</th>\n",
       "      <th>High</th>\n",
       "      <th>Low</th>\n",
       "      <th>Close</th>\n",
       "      <th>Volume</th>\n",
       "    </tr>\n",
       "    <tr>\n",
       "      <th>Date</th>\n",
       "      <th></th>\n",
       "      <th></th>\n",
       "      <th></th>\n",
       "      <th></th>\n",
       "      <th></th>\n",
       "    </tr>\n",
       "  </thead>\n",
       "  <tbody>\n",
       "    <tr>\n",
       "      <th>2016-05-09</th>\n",
       "      <td>23.250000</td>\n",
       "      <td>23.442499</td>\n",
       "      <td>23.147499</td>\n",
       "      <td>23.197500</td>\n",
       "      <td>131745600</td>\n",
       "    </tr>\n",
       "    <tr>\n",
       "      <th>2006-03-01</th>\n",
       "      <td>2.458571</td>\n",
       "      <td>2.481786</td>\n",
       "      <td>2.429286</td>\n",
       "      <td>2.467857</td>\n",
       "      <td>763817600</td>\n",
       "    </tr>\n",
       "    <tr>\n",
       "      <th>2016-01-06</th>\n",
       "      <td>25.139999</td>\n",
       "      <td>25.592501</td>\n",
       "      <td>24.967501</td>\n",
       "      <td>25.174999</td>\n",
       "      <td>273829600</td>\n",
       "    </tr>\n",
       "    <tr>\n",
       "      <th>2006-04-13</th>\n",
       "      <td>2.369286</td>\n",
       "      <td>2.408571</td>\n",
       "      <td>2.350357</td>\n",
       "      <td>2.373929</td>\n",
       "      <td>734678000</td>\n",
       "    </tr>\n",
       "    <tr>\n",
       "      <th>2005-08-03</th>\n",
       "      <td>1.542500</td>\n",
       "      <td>1.546786</td>\n",
       "      <td>1.527500</td>\n",
       "      <td>1.543571</td>\n",
       "      <td>258322400</td>\n",
       "    </tr>\n",
       "    <tr>\n",
       "      <th>...</th>\n",
       "      <td>...</td>\n",
       "      <td>...</td>\n",
       "      <td>...</td>\n",
       "      <td>...</td>\n",
       "      <td>...</td>\n",
       "    </tr>\n",
       "    <tr>\n",
       "      <th>2021-05-20</th>\n",
       "      <td>125.230003</td>\n",
       "      <td>127.720001</td>\n",
       "      <td>125.099998</td>\n",
       "      <td>127.309998</td>\n",
       "      <td>76857100</td>\n",
       "    </tr>\n",
       "    <tr>\n",
       "      <th>2005-08-25</th>\n",
       "      <td>1.647143</td>\n",
       "      <td>1.660357</td>\n",
       "      <td>1.636071</td>\n",
       "      <td>1.645000</td>\n",
       "      <td>276253600</td>\n",
       "    </tr>\n",
       "    <tr>\n",
       "      <th>2016-02-02</th>\n",
       "      <td>23.855000</td>\n",
       "      <td>24.010000</td>\n",
       "      <td>23.570000</td>\n",
       "      <td>23.620001</td>\n",
       "      <td>149428800</td>\n",
       "    </tr>\n",
       "    <tr>\n",
       "      <th>2018-10-12</th>\n",
       "      <td>55.105000</td>\n",
       "      <td>55.720001</td>\n",
       "      <td>54.209999</td>\n",
       "      <td>55.527500</td>\n",
       "      <td>161351600</td>\n",
       "    </tr>\n",
       "    <tr>\n",
       "      <th>2007-03-22</th>\n",
       "      <td>3.347500</td>\n",
       "      <td>3.370000</td>\n",
       "      <td>3.321429</td>\n",
       "      <td>3.355714</td>\n",
       "      <td>561492400</td>\n",
       "    </tr>\n",
       "  </tbody>\n",
       "</table>\n",
       "<p>4028 rows × 5 columns</p>\n",
       "</div>"
      ],
      "text/plain": [
       "                  Open        High         Low       Close     Volume\n",
       "Date                                                                 \n",
       "2016-05-09   23.250000   23.442499   23.147499   23.197500  131745600\n",
       "2006-03-01    2.458571    2.481786    2.429286    2.467857  763817600\n",
       "2016-01-06   25.139999   25.592501   24.967501   25.174999  273829600\n",
       "2006-04-13    2.369286    2.408571    2.350357    2.373929  734678000\n",
       "2005-08-03    1.542500    1.546786    1.527500    1.543571  258322400\n",
       "...                ...         ...         ...         ...        ...\n",
       "2021-05-20  125.230003  127.720001  125.099998  127.309998   76857100\n",
       "2005-08-25    1.647143    1.660357    1.636071    1.645000  276253600\n",
       "2016-02-02   23.855000   24.010000   23.570000   23.620001  149428800\n",
       "2018-10-12   55.105000   55.720001   54.209999   55.527500  161351600\n",
       "2007-03-22    3.347500    3.370000    3.321429    3.355714  561492400\n",
       "\n",
       "[4028 rows x 5 columns]"
      ]
     },
     "execution_count": 15,
     "metadata": {},
     "output_type": "execute_result"
    }
   ],
   "source": [
    "X_train"
   ]
  },
  {
   "cell_type": "code",
   "execution_count": 16,
   "metadata": {},
   "outputs": [
    {
     "data": {
      "text/html": [
       "<div>\n",
       "<style scoped>\n",
       "    .dataframe tbody tr th:only-of-type {\n",
       "        vertical-align: middle;\n",
       "    }\n",
       "\n",
       "    .dataframe tbody tr th {\n",
       "        vertical-align: top;\n",
       "    }\n",
       "\n",
       "    .dataframe thead th {\n",
       "        text-align: right;\n",
       "    }\n",
       "</style>\n",
       "<table border=\"1\" class=\"dataframe\">\n",
       "  <thead>\n",
       "    <tr style=\"text-align: right;\">\n",
       "      <th></th>\n",
       "      <th>Open</th>\n",
       "      <th>High</th>\n",
       "      <th>Low</th>\n",
       "      <th>Close</th>\n",
       "      <th>Volume</th>\n",
       "    </tr>\n",
       "    <tr>\n",
       "      <th>Date</th>\n",
       "      <th></th>\n",
       "      <th></th>\n",
       "      <th></th>\n",
       "      <th></th>\n",
       "      <th></th>\n",
       "    </tr>\n",
       "  </thead>\n",
       "  <tbody>\n",
       "    <tr>\n",
       "      <th>2018-04-09</th>\n",
       "      <td>42.470001</td>\n",
       "      <td>43.272499</td>\n",
       "      <td>42.462502</td>\n",
       "      <td>42.512501</td>\n",
       "      <td>116070800</td>\n",
       "    </tr>\n",
       "    <tr>\n",
       "      <th>2022-06-09</th>\n",
       "      <td>147.080002</td>\n",
       "      <td>147.949997</td>\n",
       "      <td>142.529999</td>\n",
       "      <td>142.639999</td>\n",
       "      <td>69473000</td>\n",
       "    </tr>\n",
       "    <tr>\n",
       "      <th>2012-12-12</th>\n",
       "      <td>19.563213</td>\n",
       "      <td>19.571428</td>\n",
       "      <td>19.152500</td>\n",
       "      <td>19.250000</td>\n",
       "      <td>487144000</td>\n",
       "    </tr>\n",
       "    <tr>\n",
       "      <th>2020-08-31</th>\n",
       "      <td>127.580002</td>\n",
       "      <td>131.000000</td>\n",
       "      <td>126.000000</td>\n",
       "      <td>129.039993</td>\n",
       "      <td>225702700</td>\n",
       "    </tr>\n",
       "    <tr>\n",
       "      <th>2008-11-04</th>\n",
       "      <td>3.928214</td>\n",
       "      <td>3.992500</td>\n",
       "      <td>3.809643</td>\n",
       "      <td>3.963929</td>\n",
       "      <td>1398681200</td>\n",
       "    </tr>\n",
       "    <tr>\n",
       "      <th>...</th>\n",
       "      <td>...</td>\n",
       "      <td>...</td>\n",
       "      <td>...</td>\n",
       "      <td>...</td>\n",
       "      <td>...</td>\n",
       "    </tr>\n",
       "    <tr>\n",
       "      <th>2013-10-22</th>\n",
       "      <td>18.800358</td>\n",
       "      <td>18.873215</td>\n",
       "      <td>18.143929</td>\n",
       "      <td>18.566786</td>\n",
       "      <td>534063600</td>\n",
       "    </tr>\n",
       "    <tr>\n",
       "      <th>2018-03-14</th>\n",
       "      <td>45.080002</td>\n",
       "      <td>45.130001</td>\n",
       "      <td>44.452499</td>\n",
       "      <td>44.610001</td>\n",
       "      <td>117473600</td>\n",
       "    </tr>\n",
       "    <tr>\n",
       "      <th>2005-08-22</th>\n",
       "      <td>1.648214</td>\n",
       "      <td>1.669643</td>\n",
       "      <td>1.616429</td>\n",
       "      <td>1.638214</td>\n",
       "      <td>387732800</td>\n",
       "    </tr>\n",
       "    <tr>\n",
       "      <th>2023-05-08</th>\n",
       "      <td>172.479996</td>\n",
       "      <td>173.850006</td>\n",
       "      <td>172.110001</td>\n",
       "      <td>173.500000</td>\n",
       "      <td>55962800</td>\n",
       "    </tr>\n",
       "    <tr>\n",
       "      <th>2008-10-31</th>\n",
       "      <td>3.835714</td>\n",
       "      <td>3.956429</td>\n",
       "      <td>3.755000</td>\n",
       "      <td>3.842500</td>\n",
       "      <td>1659756000</td>\n",
       "    </tr>\n",
       "  </tbody>\n",
       "</table>\n",
       "<p>1007 rows × 5 columns</p>\n",
       "</div>"
      ],
      "text/plain": [
       "                  Open        High         Low       Close      Volume\n",
       "Date                                                                  \n",
       "2018-04-09   42.470001   43.272499   42.462502   42.512501   116070800\n",
       "2022-06-09  147.080002  147.949997  142.529999  142.639999    69473000\n",
       "2012-12-12   19.563213   19.571428   19.152500   19.250000   487144000\n",
       "2020-08-31  127.580002  131.000000  126.000000  129.039993   225702700\n",
       "2008-11-04    3.928214    3.992500    3.809643    3.963929  1398681200\n",
       "...                ...         ...         ...         ...         ...\n",
       "2013-10-22   18.800358   18.873215   18.143929   18.566786   534063600\n",
       "2018-03-14   45.080002   45.130001   44.452499   44.610001   117473600\n",
       "2005-08-22    1.648214    1.669643    1.616429    1.638214   387732800\n",
       "2023-05-08  172.479996  173.850006  172.110001  173.500000    55962800\n",
       "2008-10-31    3.835714    3.956429    3.755000    3.842500  1659756000\n",
       "\n",
       "[1007 rows x 5 columns]"
      ]
     },
     "execution_count": 16,
     "metadata": {},
     "output_type": "execute_result"
    }
   ],
   "source": [
    "X_test"
   ]
  },
  {
   "cell_type": "code",
   "execution_count": 17,
   "metadata": {},
   "outputs": [
    {
     "data": {
      "text/plain": [
       "Date\n",
       "2016-05-09     21.362715\n",
       "2006-03-01      2.091953\n",
       "2016-01-06     22.919144\n",
       "2006-04-13      2.012331\n",
       "2005-08-03      1.308454\n",
       "                 ...    \n",
       "2021-05-20    125.500343\n",
       "2005-08-25      1.394433\n",
       "2016-02-02     21.503481\n",
       "2018-10-12     53.110577\n",
       "2007-03-22      2.844571\n",
       "Name: Adj Close, Length: 4028, dtype: float64"
      ]
     },
     "execution_count": 17,
     "metadata": {},
     "output_type": "execute_result"
    }
   ],
   "source": [
    "y_train"
   ]
  },
  {
   "cell_type": "code",
   "execution_count": 18,
   "metadata": {},
   "outputs": [
    {
     "data": {
      "text/plain": [
       "Date\n",
       "2018-04-09     40.364323\n",
       "2022-06-09    141.415802\n",
       "2012-12-12     16.462748\n",
       "2020-08-31    126.582191\n",
       "2008-11-04      3.360143\n",
       "                 ...    \n",
       "2013-10-22     16.182859\n",
       "2018-03-14     42.355831\n",
       "2005-08-22      1.388681\n",
       "2023-05-08    172.799057\n",
       "2008-10-31      3.257210\n",
       "Name: Adj Close, Length: 1007, dtype: float64"
      ]
     },
     "execution_count": 18,
     "metadata": {},
     "output_type": "execute_result"
    }
   ],
   "source": [
    "y_test"
   ]
  },
  {
   "cell_type": "markdown",
   "metadata": {},
   "source": [
    "### <font color = 'yellow' >Ta hãy lưu mô hình chuẩn hóa sau vào 1 file, để sau này chúng ta sẽ chuẩn hóa dữ liệu nhập vào theo file này( lưu chuẩn hóa của X vì dữ liệu chúng ta nhập vào là tập dữ liệu X, tức đầu vào)<font>"
   ]
  },
  {
   "cell_type": "code",
   "execution_count": 19,
   "metadata": {},
   "outputs": [],
   "source": [
    "from sklearn.preprocessing import MinMaxScaler\n",
    "minmax_scale = MinMaxScaler()\n",
    "X_train = minmax_scale.fit_transform(X_train)\n",
    "import pickle\n",
    "with open(\"../Scaler_data/Scaler_Apple.pkl\", \"wb\") as file:\n",
    "    pickle.dump(minmax_scale, file)\n",
    "X_test = minmax_scale.transform(X_test)"
   ]
  },
  {
   "cell_type": "code",
   "execution_count": 20,
   "metadata": {},
   "outputs": [
    {
     "data": {
      "text/plain": [
       "(array([[0.11702975, 0.11667639, 0.11766868, 0.1168588 , 0.03001259],\n",
       "        [0.01077164, 0.01074723, 0.01076149, 0.01081155, 0.2191701 ],\n",
       "        [0.12668891, 0.12754186, 0.12706   , 0.12697515, 0.07253346],\n",
       "        ...,\n",
       "        [0.1201217 , 0.11954437, 0.11984881, 0.1190202 , 0.03530456],\n",
       "        [0.2798301 , 0.27979721, 0.277953  , 0.28225034, 0.03887265],\n",
       "        [0.01531467, 0.015236  , 0.015365  , 0.01535358, 0.1586211 ]]),\n",
       " (4028, 5))"
      ]
     },
     "execution_count": 20,
     "metadata": {},
     "output_type": "execute_result"
    }
   ],
   "source": [
    "X_train, X_train.shape"
   ]
  },
  {
   "cell_type": "code",
   "execution_count": 21,
   "metadata": {},
   "outputs": [
    {
     "data": {
      "text/plain": [
       "(array([[0.21525681, 0.21689127, 0.21733523, 0.21566912, 0.02532166],\n",
       "        [0.74988386, 0.74589996, 0.73368937, 0.72789433, 0.01137653],\n",
       "        [0.0981878 , 0.09711316, 0.09705425, 0.09666445, 0.13637116],\n",
       "        ...,\n",
       "        [0.00663018, 0.00664291, 0.0065671 , 0.00656732, 0.10662079],\n",
       "        [0.87969482, 0.87679084, 0.88632392, 0.88576575, 0.00733339],\n",
       "        [0.01780977, 0.01819964, 0.01760225, 0.01784385, 0.4872938 ]]),\n",
       " (1007, 5))"
      ]
     },
     "execution_count": 21,
     "metadata": {},
     "output_type": "execute_result"
    }
   ],
   "source": [
    "X_test,X_test.shape"
   ]
  },
  {
   "cell_type": "markdown",
   "metadata": {},
   "source": [
    "# <font color = 'red'>3:Huấn luyện mô hình<font>"
   ]
  },
  {
   "cell_type": "code",
   "execution_count": 22,
   "metadata": {},
   "outputs": [
    {
     "data": {
      "text/html": [
       "<style>#sk-container-id-1 {color: black;background-color: white;}#sk-container-id-1 pre{padding: 0;}#sk-container-id-1 div.sk-toggleable {background-color: white;}#sk-container-id-1 label.sk-toggleable__label {cursor: pointer;display: block;width: 100%;margin-bottom: 0;padding: 0.3em;box-sizing: border-box;text-align: center;}#sk-container-id-1 label.sk-toggleable__label-arrow:before {content: \"▸\";float: left;margin-right: 0.25em;color: #696969;}#sk-container-id-1 label.sk-toggleable__label-arrow:hover:before {color: black;}#sk-container-id-1 div.sk-estimator:hover label.sk-toggleable__label-arrow:before {color: black;}#sk-container-id-1 div.sk-toggleable__content {max-height: 0;max-width: 0;overflow: hidden;text-align: left;background-color: #f0f8ff;}#sk-container-id-1 div.sk-toggleable__content pre {margin: 0.2em;color: black;border-radius: 0.25em;background-color: #f0f8ff;}#sk-container-id-1 input.sk-toggleable__control:checked~div.sk-toggleable__content {max-height: 200px;max-width: 100%;overflow: auto;}#sk-container-id-1 input.sk-toggleable__control:checked~label.sk-toggleable__label-arrow:before {content: \"▾\";}#sk-container-id-1 div.sk-estimator input.sk-toggleable__control:checked~label.sk-toggleable__label {background-color: #d4ebff;}#sk-container-id-1 div.sk-label input.sk-toggleable__control:checked~label.sk-toggleable__label {background-color: #d4ebff;}#sk-container-id-1 input.sk-hidden--visually {border: 0;clip: rect(1px 1px 1px 1px);clip: rect(1px, 1px, 1px, 1px);height: 1px;margin: -1px;overflow: hidden;padding: 0;position: absolute;width: 1px;}#sk-container-id-1 div.sk-estimator {font-family: monospace;background-color: #f0f8ff;border: 1px dotted black;border-radius: 0.25em;box-sizing: border-box;margin-bottom: 0.5em;}#sk-container-id-1 div.sk-estimator:hover {background-color: #d4ebff;}#sk-container-id-1 div.sk-parallel-item::after {content: \"\";width: 100%;border-bottom: 1px solid gray;flex-grow: 1;}#sk-container-id-1 div.sk-label:hover label.sk-toggleable__label {background-color: #d4ebff;}#sk-container-id-1 div.sk-serial::before {content: \"\";position: absolute;border-left: 1px solid gray;box-sizing: border-box;top: 0;bottom: 0;left: 50%;z-index: 0;}#sk-container-id-1 div.sk-serial {display: flex;flex-direction: column;align-items: center;background-color: white;padding-right: 0.2em;padding-left: 0.2em;position: relative;}#sk-container-id-1 div.sk-item {position: relative;z-index: 1;}#sk-container-id-1 div.sk-parallel {display: flex;align-items: stretch;justify-content: center;background-color: white;position: relative;}#sk-container-id-1 div.sk-item::before, #sk-container-id-1 div.sk-parallel-item::before {content: \"\";position: absolute;border-left: 1px solid gray;box-sizing: border-box;top: 0;bottom: 0;left: 50%;z-index: -1;}#sk-container-id-1 div.sk-parallel-item {display: flex;flex-direction: column;z-index: 1;position: relative;background-color: white;}#sk-container-id-1 div.sk-parallel-item:first-child::after {align-self: flex-end;width: 50%;}#sk-container-id-1 div.sk-parallel-item:last-child::after {align-self: flex-start;width: 50%;}#sk-container-id-1 div.sk-parallel-item:only-child::after {width: 0;}#sk-container-id-1 div.sk-dashed-wrapped {border: 1px dashed gray;margin: 0 0.4em 0.5em 0.4em;box-sizing: border-box;padding-bottom: 0.4em;background-color: white;}#sk-container-id-1 div.sk-label label {font-family: monospace;font-weight: bold;display: inline-block;line-height: 1.2em;}#sk-container-id-1 div.sk-label-container {text-align: center;}#sk-container-id-1 div.sk-container {/* jupyter's `normalize.less` sets `[hidden] { display: none; }` but bootstrap.min.css set `[hidden] { display: none !important; }` so we also need the `!important` here to be able to override the default hidden behavior on the sphinx rendered scikit-learn.org. See: https://github.com/scikit-learn/scikit-learn/issues/21755 */display: inline-block !important;position: relative;}#sk-container-id-1 div.sk-text-repr-fallback {display: none;}</style><div id=\"sk-container-id-1\" class=\"sk-top-container\"><div class=\"sk-text-repr-fallback\"><pre>LinearRegression()</pre><b>In a Jupyter environment, please rerun this cell to show the HTML representation or trust the notebook. <br />On GitHub, the HTML representation is unable to render, please try loading this page with nbviewer.org.</b></div><div class=\"sk-container\" hidden><div class=\"sk-item\"><div class=\"sk-estimator sk-toggleable\"><input class=\"sk-toggleable__control sk-hidden--visually\" id=\"sk-estimator-id-1\" type=\"checkbox\" checked><label for=\"sk-estimator-id-1\" class=\"sk-toggleable__label sk-toggleable__label-arrow\">LinearRegression</label><div class=\"sk-toggleable__content\"><pre>LinearRegression()</pre></div></div></div></div></div>"
      ],
      "text/plain": [
       "LinearRegression()"
      ]
     },
     "execution_count": 22,
     "metadata": {},
     "output_type": "execute_result"
    }
   ],
   "source": [
    "# Mô hình hồi quy tuyến tính\n",
    "model = LinearRegression()\n",
    "model.fit(X_train, y_train) # fit chính là hàm đào tạo"
   ]
  },
  {
   "cell_type": "markdown",
   "metadata": {},
   "source": [
    "# <font color=\"red\">4:Đánh giá mô hình</font>"
   ]
  },
  {
   "cell_type": "code",
   "execution_count": 23,
   "metadata": {},
   "outputs": [],
   "source": [
    "from sklearn.metrics import mean_squared_error, r2_score\n",
    "#mean_squared_error càng thấp(về 0) càng tốt\n",
    "#r2_score càng cao càng tốt"
   ]
  },
  {
   "cell_type": "code",
   "execution_count": 24,
   "metadata": {},
   "outputs": [],
   "source": [
    "y_pred = model.predict(X_test) #dự báo y_pred dựa trên tập x_test\n",
    "y_pred_train = model.predict(X_train)\n",
    "# Đánh giá mô hình bằng một số các metric, gói gọn vào 1 hàm để sử dụng ở phần sau\n",
    "def rate(y_test, y_pred,y_train,y_pred_train):\n",
    "    print('--------Kết quả trên dữ liệu huấn luyện-------')\n",
    "    mse_train = mean_squared_error(y_train, y_pred_train)\n",
    "    r2_train = r2_score(y_train, y_pred_train)\n",
    "\n",
    "    print(\"Mean Squared Error (MSE):\", mse_train)\n",
    "    print(\"R-squared (R2) Score:\", r2_train)\n",
    "\n",
    "    print('--------Kết quả thẩm định-------')\n",
    "    mse = mean_squared_error(y_test, y_pred)\n",
    "    r2 = r2_score(y_test, y_pred)\n",
    "\n",
    "    print(\"Mean Squared Error (MSE):\", mse)\n",
    "    print(\"R-squared (R2) Score:\", r2)"
   ]
  },
  {
   "cell_type": "code",
   "execution_count": 25,
   "metadata": {},
   "outputs": [
    {
     "data": {
      "text/plain": [
       "(1007,)"
      ]
     },
     "execution_count": 25,
     "metadata": {},
     "output_type": "execute_result"
    }
   ],
   "source": [
    "y_pred.shape"
   ]
  },
  {
   "cell_type": "code",
   "execution_count": 26,
   "metadata": {},
   "outputs": [
    {
     "data": {
      "text/plain": [
       "(1007,)"
      ]
     },
     "execution_count": 26,
     "metadata": {},
     "output_type": "execute_result"
    }
   ],
   "source": [
    "y_test.shape"
   ]
  },
  {
   "cell_type": "code",
   "execution_count": 27,
   "metadata": {},
   "outputs": [
    {
     "name": "stdout",
     "output_type": "stream",
     "text": [
      "--------Kết quả trên dữ liệu huấn luyện-------\n",
      "Mean Squared Error (MSE): 0.6859207653132164\n",
      "R-squared (R2) Score: 0.9997358761748881\n",
      "--------Kết quả thẩm định-------\n",
      "Mean Squared Error (MSE): 0.7190398888746208\n",
      "R-squared (R2) Score: 0.9997386742804328\n"
     ]
    }
   ],
   "source": [
    "rate(y_test, y_pred,y_train,y_pred_train)"
   ]
  },
  {
   "cell_type": "code",
   "execution_count": 28,
   "metadata": {},
   "outputs": [
    {
     "name": "stdout",
     "output_type": "stream",
     "text": [
      "Date\n",
      "2018-04-09     40.364323\n",
      "2022-06-09    141.415802\n",
      "2012-12-12     16.462748\n",
      "2020-08-31    126.582191\n",
      "2008-11-04      3.360143\n",
      "                 ...    \n",
      "2013-10-22     16.182859\n",
      "2018-03-14     42.355831\n",
      "2005-08-22      1.388681\n",
      "2023-05-08    172.799057\n",
      "2008-10-31      3.257210\n",
      "Name: Adj Close, Length: 1007, dtype: float64\n"
     ]
    }
   ],
   "source": [
    "print(y_test)"
   ]
  },
  {
   "cell_type": "code",
   "execution_count": 29,
   "metadata": {},
   "outputs": [
    {
     "name": "stdout",
     "output_type": "stream",
     "text": [
      "[ 4.06783042e+01  1.40891879e+02  1.77076365e+01 ... -4.73503399e-02\n",
      "  1.71920170e+02  3.56253290e+00]\n"
     ]
    }
   ],
   "source": [
    "print(y_pred)"
   ]
  },
  {
   "cell_type": "code",
   "execution_count": 30,
   "metadata": {},
   "outputs": [
    {
     "data": {
      "text/html": [
       "<div>\n",
       "<style scoped>\n",
       "    .dataframe tbody tr th:only-of-type {\n",
       "        vertical-align: middle;\n",
       "    }\n",
       "\n",
       "    .dataframe tbody tr th {\n",
       "        vertical-align: top;\n",
       "    }\n",
       "\n",
       "    .dataframe thead th {\n",
       "        text-align: right;\n",
       "    }\n",
       "</style>\n",
       "<table border=\"1\" class=\"dataframe\">\n",
       "  <thead>\n",
       "    <tr style=\"text-align: right;\">\n",
       "      <th></th>\n",
       "      <th>Actual</th>\n",
       "      <th>Predicted</th>\n",
       "    </tr>\n",
       "    <tr>\n",
       "      <th>Date</th>\n",
       "      <th></th>\n",
       "      <th></th>\n",
       "    </tr>\n",
       "  </thead>\n",
       "  <tbody>\n",
       "    <tr>\n",
       "      <th>2018-04-09</th>\n",
       "      <td>40.364323</td>\n",
       "      <td>40.678304</td>\n",
       "    </tr>\n",
       "    <tr>\n",
       "      <th>2022-06-09</th>\n",
       "      <td>141.415802</td>\n",
       "      <td>140.891879</td>\n",
       "    </tr>\n",
       "    <tr>\n",
       "      <th>2012-12-12</th>\n",
       "      <td>16.462748</td>\n",
       "      <td>17.707636</td>\n",
       "    </tr>\n",
       "    <tr>\n",
       "      <th>2020-08-31</th>\n",
       "      <td>126.582191</td>\n",
       "      <td>127.476468</td>\n",
       "    </tr>\n",
       "    <tr>\n",
       "      <th>2008-11-04</th>\n",
       "      <td>3.360143</td>\n",
       "      <td>3.389796</td>\n",
       "    </tr>\n",
       "    <tr>\n",
       "      <th>2013-04-17</th>\n",
       "      <td>12.374475</td>\n",
       "      <td>13.316992</td>\n",
       "    </tr>\n",
       "    <tr>\n",
       "      <th>2004-10-04</th>\n",
       "      <td>0.587170</td>\n",
       "      <td>-0.789480</td>\n",
       "    </tr>\n",
       "    <tr>\n",
       "      <th>2020-09-14</th>\n",
       "      <td>113.162758</td>\n",
       "      <td>113.584148</td>\n",
       "    </tr>\n",
       "    <tr>\n",
       "      <th>2020-04-17</th>\n",
       "      <td>69.041672</td>\n",
       "      <td>68.905777</td>\n",
       "    </tr>\n",
       "    <tr>\n",
       "      <th>2004-10-01</th>\n",
       "      <td>0.585354</td>\n",
       "      <td>-0.911316</td>\n",
       "    </tr>\n",
       "  </tbody>\n",
       "</table>\n",
       "</div>"
      ],
      "text/plain": [
       "                Actual   Predicted\n",
       "Date                              \n",
       "2018-04-09   40.364323   40.678304\n",
       "2022-06-09  141.415802  140.891879\n",
       "2012-12-12   16.462748   17.707636\n",
       "2020-08-31  126.582191  127.476468\n",
       "2008-11-04    3.360143    3.389796\n",
       "2013-04-17   12.374475   13.316992\n",
       "2004-10-04    0.587170   -0.789480\n",
       "2020-09-14  113.162758  113.584148\n",
       "2020-04-17   69.041672   68.905777\n",
       "2004-10-01    0.585354   -0.911316"
      ]
     },
     "execution_count": 30,
     "metadata": {},
     "output_type": "execute_result"
    }
   ],
   "source": [
    "df_result = pd.DataFrame({'Actual':y_test, 'Predicted': y_pred})\n",
    "df_compare = df_result.head(10)\n",
    "df_compare\n",
    "#so sánh dữ liệu thực tế với dự đoán"
   ]
  },
  {
   "cell_type": "code",
   "execution_count": 31,
   "metadata": {},
   "outputs": [
    {
     "data": {
      "text/plain": [
       "<Axes: xlabel='Date'>"
      ]
     },
     "execution_count": 31,
     "metadata": {},
     "output_type": "execute_result"
    },
    {
     "data": {
      "image/png": "[encoded data removed]",
      "text/plain": [
       "<Figure size 640x480 with 1 Axes>"
      ]
     },
     "metadata": {},
     "output_type": "display_data"
    }
   ],
   "source": [
    "df_compare.plot(kind='line')\n",
    "# lập biểu đồ độ để dễ đánh giá"
   ]
  },
  {
   "cell_type": "markdown",
   "metadata": {},
   "source": [
    "### <font color = \"green\"> Ta thấy mô hình quá tốt<font>"
   ]
  },
  {
   "cell_type": "markdown",
   "metadata": {},
   "source": [
    "# <font color=\"red\">5:Lưu mô hình</font>"
   ]
  },
  {
   "cell_type": "markdown",
   "metadata": {},
   "source": [
    "Ta đang triển khai mô hình trong biến model"
   ]
  },
  {
   "cell_type": "code",
   "execution_count": 32,
   "metadata": {},
   "outputs": [],
   "source": [
    "import pickle\n",
    "# Tải mô hình từ file\n",
    "with open('../Model_data/Apple.pkl', 'wb') as model_file:\n",
    "    pickle.dump(model, model_file)"
   ]
  }
 ],
 "metadata": {
  "kernelspec": {
   "display_name": "anhkun",
   "language": "python",
   "name": "python3"
  },
  "language_info": {
   "codemirror_mode": {
    "name": "ipython",
    "version": 3
   },
   "file_extension": ".py",
   "mimetype": "text/x-python",
   "name": "python",
   "nbconvert_exporter": "python",
   "pygments_lexer": "ipython3",
   "version": "3.8.16"
  }
 },
 "nbformat": 4,
 "nbformat_minor": 2
}
